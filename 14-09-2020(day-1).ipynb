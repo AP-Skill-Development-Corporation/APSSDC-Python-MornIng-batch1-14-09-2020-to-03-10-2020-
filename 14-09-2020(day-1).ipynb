{
 "cells": [
  {
   "cell_type": "code",
   "execution_count": null,
   "metadata": {},
   "outputs": [],
   "source": [
    "# Day objectives:\n",
    "- installtion\n",
    "- python introduction\n",
    "- jupyter notebook\n",
    "- markdown format"
   ]
  },
  {
   "cell_type": "code",
   "execution_count": null,
   "metadata": {},
   "outputs": [],
   "source": [
    "# for software download:\n",
    "    - https://www.anaconda.com/products/individual#windows\n",
    "# installtion:\n",
    "- windows:\n",
    "    -https://docs.anaconda.com/anaconda/install/windows/\n",
    "- linux:\n",
    "    - https://docs.anaconda.com/anaconda/install/linux/\n",
    "- mac os:\n",
    "    - https://docs.anaconda.com/anaconda/install/mac-os/"
   ]
  },
  {
   "cell_type": "code",
   "execution_count": null,
   "metadata": {},
   "outputs": [],
   "source": []
  },
  {
   "cell_type": "markdown",
   "metadata": {},
   "source": [
    "python "
   ]
  },
  {
   "cell_type": "code",
   "execution_count": null,
   "metadata": {},
   "outputs": [],
   "source": [
    "b- below\n",
    "a- above\n",
    "to run the program---> shift+enter"
   ]
  },
  {
   "cell_type": "code",
   "execution_count": 2,
   "metadata": {},
   "outputs": [
    {
     "name": "stdout",
     "output_type": "stream",
     "text": [
      "hello everyone\n",
      "online workshop\n"
     ]
    }
   ],
   "source": [
    "print(\"hello everyone\")\n",
    "print(\"online workshop\")"
   ]
  },
  {
   "cell_type": "code",
   "execution_count": 3,
   "metadata": {},
   "outputs": [
    {
     "name": "stdout",
     "output_type": "stream",
     "text": [
      "python training\n"
     ]
    }
   ],
   "source": [
    "print(\"python training\")"
   ]
  },
  {
   "cell_type": "code",
   "execution_count": null,
   "metadata": {},
   "outputs": [],
   "source": [
    "- python idle\n",
    "    - shell---->single line codes---->enter\n",
    "    - script---->multiple lines------>runmodule or f5"
   ]
  },
  {
   "cell_type": "code",
   "execution_count": null,
   "metadata": {},
   "outputs": [],
   "source": [
    "- jupyter notebook\n",
    "    - markdown----->theory\n",
    "    - code--->default mode--->programs"
   ]
  },
  {
   "cell_type": "markdown",
   "metadata": {},
   "source": [
    "m----> markdown"
   ]
  },
  {
   "cell_type": "code",
   "execution_count": null,
   "metadata": {},
   "outputs": [],
   "source": [
    "c----->code  (in [])"
   ]
  },
  {
   "cell_type": "markdown",
   "metadata": {},
   "source": [
    "# heading1\n",
    "## heading2\n",
    "### heading3\n",
    "####  heading 4\n",
    "##### heading 5\n",
    "###### heading 6\n",
    "####### heading"
   ]
  },
  {
   "cell_type": "markdown",
   "metadata": {},
   "source": [
    "* python"
   ]
  },
  {
   "cell_type": "markdown",
   "metadata": {},
   "source": [
    "* **bold**\n",
    "* *italic*\n",
    "* ***bolditalic***"
   ]
  },
  {
   "cell_type": "markdown",
   "metadata": {},
   "source": [
    "* Normal text\n",
    "    * sublist1\n",
    "    * sublist2\n",
    "        * sublist 3"
   ]
  },
  {
   "cell_type": "markdown",
   "metadata": {},
   "source": [
    "1. ordered list1\n",
    "2. ordered list2"
   ]
  },
  {
   "cell_type": "code",
   "execution_count": null,
   "metadata": {},
   "outputs": [],
   "source": []
  },
  {
   "cell_type": "markdown",
   "metadata": {},
   "source": [
    "# python introduction:"
   ]
  },
  {
   "cell_type": "code",
   "execution_count": null,
   "metadata": {},
   "outputs": [],
   "source": [
    "# what is python:\n",
    "- python is simple,general purpose,interpreted scripting language,highlevel,object oriented langauge.\n",
    "- python is developed by guido van rossum\n",
    "- guido van rossum started implementing python in 1989,an released in 1991."
   ]
  },
  {
   "cell_type": "code",
   "execution_count": null,
   "metadata": {},
   "outputs": [],
   "source": [
    "# why python named as python?\n",
    "- the name came from BBC's comedy television show - 'monty python's flying circus(from 1970's)'\n",
    "as he was a big fan of the tv show."
   ]
  },
  {
   "cell_type": "code",
   "execution_count": null,
   "metadata": {},
   "outputs": [],
   "source": [
    "# python features:\n",
    "1) easy syntax to learn and use\n",
    "2) expressive language\n",
    "3) interpreted lanaguage #line by line checking\n",
    "4) cross-platform language\n",
    "5) free and opensource\n",
    "6) object oriented \n",
    "7) extensible\n",
    "8) large standard library\n",
    "9) gui programming support\n",
    "10) integrated\n",
    "11) dynamically typed language (idt doesn't know about the type of the variable until the code is run)"
   ]
  },
  {
   "cell_type": "code",
   "execution_count": 6,
   "metadata": {},
   "outputs": [
    {
     "name": "stdout",
     "output_type": "stream",
     "text": [
      "python programming\n"
     ]
    },
    {
     "ename": "NameError",
     "evalue": "name 'gsdjgjdgjhgshjg' is not defined",
     "output_type": "error",
     "traceback": [
      "\u001b[1;31m---------------------------------------------------------------------------\u001b[0m",
      "\u001b[1;31mNameError\u001b[0m                                 Traceback (most recent call last)",
      "\u001b[1;32m<ipython-input-6-3483d84601d2>\u001b[0m in \u001b[0;36m<module>\u001b[1;34m\u001b[0m\n\u001b[0;32m      1\u001b[0m \u001b[0mprint\u001b[0m\u001b[1;33m(\u001b[0m\u001b[1;34m\"python programming\"\u001b[0m\u001b[1;33m)\u001b[0m\u001b[1;33m\u001b[0m\u001b[1;33m\u001b[0m\u001b[0m\n\u001b[1;32m----> 2\u001b[1;33m \u001b[0mgsdjgjdgjhgshjg\u001b[0m\u001b[1;33m\u001b[0m\u001b[1;33m\u001b[0m\u001b[0m\n\u001b[0m\u001b[0;32m      3\u001b[0m \u001b[0mprint\u001b[0m\u001b[1;33m(\u001b[0m\u001b[1;34m\"hello\"\u001b[0m\u001b[1;33m)\u001b[0m\u001b[1;33m\u001b[0m\u001b[1;33m\u001b[0m\u001b[0m\n",
      "\u001b[1;31mNameError\u001b[0m: name 'gsdjgjdgjhgshjg' is not defined"
     ]
    }
   ],
   "source": [
    "print(\"python programming\")\n",
    "gsdjgjdgjhgshjg\n",
    "print(\"hello\")"
   ]
  },
  {
   "cell_type": "code",
   "execution_count": null,
   "metadata": {},
   "outputs": [],
   "source": []
  },
  {
   "cell_type": "code",
   "execution_count": null,
   "metadata": {},
   "outputs": [],
   "source": [
    "# applications of python?\n",
    "1) webdevelopment(google,youtube,instagram,drop box....etc)\n",
    "2)data science\n",
    "3) data visualization\n",
    "4) scientific computing\n",
    "5) machine learning\n",
    "6) multimedia\n",
    "7) gui based applications\n",
    "8) game development\n",
    "9) artificial intelligence\n",
    "10) enterprise applications\n",
    "11) business applications\n",
    "12)software development......etc"
   ]
  },
  {
   "cell_type": "code",
   "execution_count": null,
   "metadata": {},
   "outputs": [],
   "source": []
  },
  {
   "cell_type": "code",
   "execution_count": null,
   "metadata": {},
   "outputs": [],
   "source": [
    "# python versions:(https://www.python.org/)\n",
    "- python 1.0 jan 1994\n",
    "- python 2.0 oct,2000\n",
    "- python 3.0 dec 20080\n",
    "- python 2.7 july 2010\n",
    "- python 3.8.5 july,2020 (latest version)"
   ]
  },
  {
   "cell_type": "code",
   "execution_count": null,
   "metadata": {},
   "outputs": [],
   "source": []
  }
 ],
 "metadata": {
  "kernelspec": {
   "display_name": "Python 3",
   "language": "python",
   "name": "python3"
  },
  "language_info": {
   "codemirror_mode": {
    "name": "ipython",
    "version": 3
   },
   "file_extension": ".py",
   "mimetype": "text/x-python",
   "name": "python",
   "nbconvert_exporter": "python",
   "pygments_lexer": "ipython3",
   "version": "3.7.3"
  }
 },
 "nbformat": 4,
 "nbformat_minor": 2
}
