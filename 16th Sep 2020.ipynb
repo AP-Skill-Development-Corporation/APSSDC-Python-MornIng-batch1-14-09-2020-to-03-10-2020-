{
 "cells": [
  {
   "cell_type": "code",
   "execution_count": 1,
   "metadata": {},
   "outputs": [
    {
     "name": "stdout",
     "output_type": "stream",
     "text": [
      "Enter your name: Abcd\n",
      "Enter your clg name: ofgkfdd\n",
      "Welcome to  Abcd ofgkfdd\n"
     ]
    }
   ],
   "source": [
    "a = input('Enter your name: ')\n",
    "b = input('Enter your clg name: ')\n",
    "print('Welcome to ',a,b)"
   ]
  },
  {
   "cell_type": "markdown",
   "metadata": {},
   "source": [
    "- Statement\n",
    "    - unit of code that python interpreter can execute\n",
    "    - two types of statements\n",
    "        - print statement\n",
    "        - Assignment \n",
    "- Operators\n",
    "    - operator\n",
    "        - used to perform operations on varaibles and values\n",
    "    - operand\n",
    "        - value of operator applied\n",
    "    - Expression\n",
    "        - combinator or sequence of operators and operand\n",
    "- operators in python\n",
    "    - Arithematic operators\n",
    "    - Assignment Operators\n",
    "    - Logical Operators\n",
    "    - Comparision Operators\n",
    "    - membership Operators\n",
    "    - Identity Operators\n",
    "    - Bitwise Operators\n",
    "- Conditional Statements"
   ]
  },
  {
   "cell_type": "code",
   "execution_count": 2,
   "metadata": {},
   "outputs": [
    {
     "name": "stdout",
     "output_type": "stream",
     "text": [
      "Enter number1: 30\n",
      "Enter number2: 10\n",
      "40\n",
      "20\n",
      "300\n",
      "3.0\n",
      "0\n",
      "3\n",
      "590490000000000\n"
     ]
    }
   ],
   "source": [
    "# Arithmatic Operators\n",
    "# +,-,*,/,%,//,**\n",
    "num1 = int(input('Enter number1: '))\n",
    "num2 = int(input('Enter number2: '))\n",
    "add = num1 + num2\n",
    "sub = num1 - num2\n",
    "mul = num1 * num2\n",
    "div = num1 / num2 # returns float value\n",
    "mod = num1 % num2 # returns remainder\n",
    "fdiv = num1 // num2 # returns only integer values\n",
    "exp = num1 ** num2\n",
    "print(add)\n",
    "print(sub)\n",
    "print(mul)\n",
    "print(div)\n",
    "print(mod)\n",
    "print(fdiv)\n",
    "print(exp)"
   ]
  },
  {
   "cell_type": "code",
   "execution_count": 1,
   "metadata": {},
   "outputs": [
    {
     "data": {
      "text/plain": [
       "15"
      ]
     },
     "execution_count": 1,
     "metadata": {},
     "output_type": "execute_result"
    }
   ],
   "source": [
    "# Assignment operators\n",
    "# used to assign values\n",
    "# +=,-=,*=,/=,%=,//=.**=\n",
    "a = 10\n",
    "b = 5\n",
    "a += b # a = a + b\n",
    "a"
   ]
  },
  {
   "cell_type": "code",
   "execution_count": 2,
   "metadata": {},
   "outputs": [
    {
     "data": {
      "text/plain": [
       "10"
      ]
     },
     "execution_count": 2,
     "metadata": {},
     "output_type": "execute_result"
    }
   ],
   "source": [
    "a -= b # a = a - b\n",
    "a"
   ]
  },
  {
   "cell_type": "code",
   "execution_count": 6,
   "metadata": {},
   "outputs": [
    {
     "name": "stdout",
     "output_type": "stream",
     "text": [
      "mul 120\n",
      "div 0.05\n",
      "rem 0.04999999999999334\n",
      "Exp 0.8608916593317291\n",
      "fdiv 17.0\n"
     ]
    }
   ],
   "source": [
    "c = 20\n",
    "d = 6\n",
    "c *=c //= d\n",
    "print('fdiv',c) d\n",
    "print('mul',c)\n",
    "d /= c\n",
    "print('div',d)\n",
    "c %= d\n",
    "print('rem',c)\n",
    "c **= d\n",
    "print('Exp',c)\n",
    "c //= d\n",
    "print('fdiv',c)"
   ]
  },
  {
   "cell_type": "code",
   "execution_count": 7,
   "metadata": {},
   "outputs": [
    {
     "name": "stdout",
     "output_type": "stream",
     "text": [
      "fdiv 339.0\n"
     ]
    }
   ],
   "source": [
    "c //= d\n",
    "print('fdiv',c)"
   ]
  },
  {
   "cell_type": "markdown",
   "metadata": {},
   "source": [
    "- Boolean represents True or False\n",
    "    - returns True\n",
    "        - string,number,list,tuple,dictionary\n",
    "        - Any number is True except Zero\n",
    "    - returns False\n",
    "        - empty string,list,tuple,dict,False,None"
   ]
  },
  {
   "cell_type": "code",
   "execution_count": 12,
   "metadata": {},
   "outputs": [
    {
     "name": "stdout",
     "output_type": "stream",
     "text": [
      "True\n",
      "True\n",
      "True\n",
      "True\n",
      "True\n",
      "True\n"
     ]
    }
   ],
   "source": [
    "print(bool('abc'))\n",
    "print(bool(56))\n",
    "print(bool(90.8))\n",
    "print(bool([1,2,'a']))\n",
    "print(bool((1,2,3,'a')))\n",
    "print(bool({'a':'123'}))"
   ]
  },
  {
   "cell_type": "code",
   "execution_count": 16,
   "metadata": {},
   "outputs": [
    {
     "name": "stdout",
     "output_type": "stream",
     "text": [
      "False\n",
      "False\n",
      "False\n",
      "False\n",
      "False\n"
     ]
    }
   ],
   "source": [
    "print(bool(''))\n",
    "print(bool(0))\n",
    "print(bool([]))\n",
    "print(bool(None))\n",
    "print(bool(False))"
   ]
  },
  {
   "cell_type": "code",
   "execution_count": 17,
   "metadata": {},
   "outputs": [
    {
     "name": "stdout",
     "output_type": "stream",
     "text": [
      "False\n",
      "True\n",
      "False\n",
      "True\n",
      "False\n",
      "True\n"
     ]
    }
   ],
   "source": [
    "# Comparision Operators\n",
    "# ==,>,<,>=,<=,!=\n",
    "a = 2\n",
    "b = 5\n",
    "print(a == b)\n",
    "print(a != b)\n",
    "print(a > b)\n",
    "print(a < b)\n",
    "print(a >= b)\n",
    "print(a <= b)"
   ]
  },
  {
   "cell_type": "code",
   "execution_count": 21,
   "metadata": {},
   "outputs": [
    {
     "name": "stdout",
     "output_type": "stream",
     "text": [
      "True\n",
      "False\n",
      "True\n"
     ]
    }
   ],
   "source": [
    "# membership Operatos(in,not in)\n",
    "# used to test a sequence in object\n",
    "course = 'python'\n",
    "print('p' in 'python123')\n",
    "print('z' in course)\n",
    "print('z' not in course)"
   ]
  },
  {
   "cell_type": "code",
   "execution_count": 26,
   "metadata": {},
   "outputs": [
    {
     "name": "stdout",
     "output_type": "stream",
     "text": [
      "False\n"
     ]
    }
   ],
   "source": [
    "num = '1234'\n",
    "print('13' in num)"
   ]
  },
  {
   "cell_type": "code",
   "execution_count": 27,
   "metadata": {},
   "outputs": [
    {
     "name": "stdout",
     "output_type": "stream",
     "text": [
      "True\n",
      "True\n",
      "True\n"
     ]
    }
   ],
   "source": [
    "# Idendity Operators(is,is not)\n",
    "# used to compare objects\n",
    "a = 'python'\n",
    "b = 'python'\n",
    "c = a\n",
    "print(a is b)\n",
    "print(a is c)\n",
    "print(a == c)"
   ]
  },
  {
   "cell_type": "code",
   "execution_count": 30,
   "metadata": {},
   "outputs": [
    {
     "name": "stdout",
     "output_type": "stream",
     "text": [
      "1710405600904\n",
      "1710405600904\n"
     ]
    }
   ],
   "source": [
    "print(id(a))\n",
    "print(id(b))"
   ]
  },
  {
   "cell_type": "code",
   "execution_count": 28,
   "metadata": {},
   "outputs": [
    {
     "name": "stdout",
     "output_type": "stream",
     "text": [
      "False\n",
      "True\n",
      "True\n"
     ]
    }
   ],
   "source": [
    "d = ['a','b','c']\n",
    "e = ['a','b','c']\n",
    "f = d\n",
    "print(d is e)\n",
    "print(d is f)\n",
    "print(d == f)"
   ]
  },
  {
   "cell_type": "code",
   "execution_count": 32,
   "metadata": {},
   "outputs": [
    {
     "name": "stdout",
     "output_type": "stream",
     "text": [
      "1710435704136\n",
      "1710435778760\n"
     ]
    }
   ],
   "source": [
    "print(id(d))\n",
    "print(id(e))"
   ]
  },
  {
   "cell_type": "markdown",
   "metadata": {},
   "source": [
    "And(*)   or(+)    \n",
    "0 0 0  0 0 0\n",
    "0 1 0  0 1 1\n",
    "1 0 0  1 0 1\n",
    "1 1 1  1 1 1"
   ]
  },
  {
   "cell_type": "code",
   "execution_count": 39,
   "metadata": {},
   "outputs": [
    {
     "name": "stdout",
     "output_type": "stream",
     "text": [
      "False\n",
      "True\n"
     ]
    }
   ],
   "source": [
    "print(not(True))\n",
    "print(not(False))"
   ]
  },
  {
   "cell_type": "code",
   "execution_count": 35,
   "metadata": {},
   "outputs": [
    {
     "name": "stdout",
     "output_type": "stream",
     "text": [
      "True\n",
      "True\n",
      "False\n"
     ]
    }
   ],
   "source": [
    "# Logical Operators(and,or,not)\n",
    "# used to combine with conditional statements\n",
    "# and returns True both are True(1) else returns False\n",
    "# or returns True if any one is True\n",
    "# not -- Reverse the result\n",
    "a = 5\n",
    "print(a > 2 and a < 10)\n",
    "print(a > 2 or a < 10)\n",
    "print(not(a > 2 or a < 10))"
   ]
  },
  {
   "cell_type": "markdown",
   "metadata": {},
   "source": [
    "Xor\n",
    "0 0 0\n",
    "0 1 1\n",
    "1 0 1\n",
    "1 1 0"
   ]
  },
  {
   "cell_type": "code",
   "execution_count": 50,
   "metadata": {},
   "outputs": [
    {
     "name": "stdout",
     "output_type": "stream",
     "text": [
      "0b1010\n",
      "0b10\n",
      "2\n",
      "10\n",
      "8\n",
      "-11\n",
      "2\n",
      "40\n"
     ]
    }
   ],
   "source": [
    "# Bitwise Operators(&,|,^,~,<<,>>)\n",
    "# used to compare binary numbers\n",
    "a = 10 #1010\n",
    "b = 2 #0010\n",
    "print(bin(a))\n",
    "print(bin(b))\n",
    "print(a & b)\n",
    "print(a | b)\n",
    "print(a ^ b)\n",
    "print(~a)#(-(a+1))\n",
    "print(a >> b)\n",
    "print(a << b)\n",
    "# 1010\n",
    "# 0010\n",
    "# 0010"
   ]
  },
  {
   "cell_type": "markdown",
   "metadata": {},
   "source": [
    "  2^3 2^2 2^1 2^0\n",
    "  8    4   2   1\n",
    "  0    0   0   0   -- 0\n",
    "  0    0   0   1   -- 1\n",
    "  0    0   1   0   -- 2\n",
    "  0    0   1   1   -- 3\n",
    "1010 -- 10 \n",
    "(left shift)\n",
    "1010\n",
    "101000"
   ]
  },
  {
   "cell_type": "markdown",
   "metadata": {},
   "source": [
    "- Conditional Statements\n",
    "    - used for decision making\n",
    "    - if\n",
    "        - syntax\n",
    "            - if condition:\n",
    "                statements\n",
    "    - if else\n",
    "        - syntax\n",
    "            - if condition:\n",
    "                statements\n",
    "              else:\n",
    "                  statements\n",
    "    - if elif else\n",
    "        - syntax\n",
    "            - if condition:\n",
    "                statements\n",
    "              elif condition:\n",
    "                  statements\n",
    "              else:\n",
    "                  statements\n",
    "    - nested if \n",
    "        - syntax\n",
    "            - if conditon:\n",
    "                if condition:\n",
    "                statements\n",
    "              elif condition:\n",
    "                  statements\n",
    "              else:\n",
    "                  statements"
   ]
  },
  {
   "cell_type": "code",
   "execution_count": 55,
   "metadata": {},
   "outputs": [
    {
     "name": "stdout",
     "output_type": "stream",
     "text": [
      "20\n",
      "20 is greater than 10\n"
     ]
    }
   ],
   "source": [
    "#Basic Example for if\n",
    "num = int(input())\n",
    "if num > 10:\n",
    "    print(num,'is greater than 10')"
   ]
  },
  {
   "cell_type": "code",
   "execution_count": 59,
   "metadata": {},
   "outputs": [
    {
     "name": "stdout",
     "output_type": "stream",
     "text": [
      "2\n",
      "2 is less than 10\n"
     ]
    }
   ],
   "source": [
    "# Basic example for if else\n",
    "num = int(input())\n",
    "if num > 10:\n",
    "    print(num,'is greater than 10')\n",
    "else:\n",
    "    print(num,'is less than 10')"
   ]
  },
  {
   "cell_type": "code",
   "execution_count": 61,
   "metadata": {},
   "outputs": [
    {
     "name": "stdout",
     "output_type": "stream",
     "text": [
      "20\n",
      "1\n",
      "0\n",
      "20 is Largest\n"
     ]
    }
   ],
   "source": [
    "# Find the largest of three\n",
    "a = int(input())\n",
    "b = int(input())\n",
    "c = int(input())\n",
    "if a > b and a > c:\n",
    "    print(a,'is Largest')\n",
    "elif b > c:\n",
    "    print(b,\"is largest\")\n",
    "else:\n",
    "    print(c,'is largest')"
   ]
  },
  {
   "cell_type": "code",
   "execution_count": 63,
   "metadata": {},
   "outputs": [
    {
     "name": "stdout",
     "output_type": "stream",
     "text": [
      "-8\n",
      "Negative\n"
     ]
    }
   ],
   "source": [
    "# Example for nested if\n",
    "# check number is positiveor negative or zero\n",
    "num = int(input())\n",
    "if num >= 0:\n",
    "    if num == 0:\n",
    "        print('zero')\n",
    "    else:\n",
    "        print('Positive')\n",
    "else:\n",
    "    print('Negative')"
   ]
  },
  {
   "cell_type": "markdown",
   "metadata": {},
   "source": [
    "- Tasks\n",
    "    - Basic calculator\n",
    "        - 5,5 -- 10\n",
    "    - check if a year is leap year or not\n",
    "    - check if a number is multiple of 10\n",
    "    - check if a number is factor of 1000"
   ]
  },
  {
   "cell_type": "code",
   "execution_count": 65,
   "metadata": {},
   "outputs": [
    {
     "name": "stdout",
     "output_type": "stream",
     "text": [
      "2\n",
      "6\n",
      "A\n",
      "8\n"
     ]
    }
   ],
   "source": [
    "a = int(input())\n",
    "b = int(input())\n",
    "c = input()\n",
    "if c == 'A':\n",
    "    print(a+b)"
   ]
  },
  {
   "cell_type": "code",
   "execution_count": null,
   "metadata": {},
   "outputs": [],
   "source": []
  }
 ],
 "metadata": {
  "kernelspec": {
   "display_name": "Python 3",
   "language": "python",
   "name": "python3"
  },
  "language_info": {
   "codemirror_mode": {
    "name": "ipython",
    "version": 3
   },
   "file_extension": ".py",
   "mimetype": "text/x-python",
   "name": "python",
   "nbconvert_exporter": "python",
   "pygments_lexer": "ipython3",
   "version": "3.7.1"
  }
 },
 "nbformat": 4,
 "nbformat_minor": 2
}
