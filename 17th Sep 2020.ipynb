{
 "cells": [
  {
   "cell_type": "markdown",
   "metadata": {},
   "source": [
    "- Iterations(loops)\n",
    "    - repeats  sequence of instructions until the condition satisfies\n",
    "- Advantages\n",
    "    - code reusability\n",
    "    - do not need to write the same code again and again\n",
    "    - traverse over elements in data structures easily\n",
    "- two \n",
    "    - for loop\n",
    "    - while loop"
   ]
  },
  {
   "cell_type": "markdown",
   "metadata": {},
   "source": [
    "- For loop\n",
    "    - execute some part of code until the condition satisfies\n",
    "    - pre tested loop\n",
    "    - syntax\n",
    "        - for iterating_var in sequence:\n",
    "            statements"
   ]
  },
  {
   "cell_type": "code",
   "execution_count": 1,
   "metadata": {},
   "outputs": [
    {
     "name": "stdout",
     "output_type": "stream",
     "text": [
      "p\n",
      "y\n",
      "t\n",
      "h\n",
      "o\n",
      "n\n"
     ]
    }
   ],
   "source": [
    "name = 'python'\n",
    "for char in name:\n",
    "    print(char)"
   ]
  },
  {
   "cell_type": "code",
   "execution_count": 3,
   "metadata": {},
   "outputs": [
    {
     "name": "stdout",
     "output_type": "stream",
     "text": [
      "1\n",
      "2\n",
      "3\n",
      "a\n",
      "b\n"
     ]
    }
   ],
   "source": [
    "l = [1,2,3,'a','b']\n",
    "for q in l:\n",
    "    print(q)"
   ]
  },
  {
   "cell_type": "code",
   "execution_count": 4,
   "metadata": {},
   "outputs": [
    {
     "data": {
      "text/plain": [
       "list"
      ]
     },
     "execution_count": 4,
     "metadata": {},
     "output_type": "execute_result"
    }
   ],
   "source": [
    "type(l)"
   ]
  },
  {
   "cell_type": "code",
   "execution_count": 12,
   "metadata": {},
   "outputs": [
    {
     "name": "stdout",
     "output_type": "stream",
     "text": [
      "0 1 2 3 4 5 "
     ]
    }
   ],
   "source": [
    "for num in range(6):\n",
    "    print(num,end=\" \")"
   ]
  },
  {
   "cell_type": "code",
   "execution_count": 11,
   "metadata": {},
   "outputs": [
    {
     "name": "stdout",
     "output_type": "stream",
     "text": [
      "1 2 3 4 5 6 7 8 9 10 "
     ]
    }
   ],
   "source": [
    "for num in range(1,11):\n",
    "    print(num,end=\" \")"
   ]
  },
  {
   "cell_type": "code",
   "execution_count": 13,
   "metadata": {},
   "outputs": [
    {
     "name": "stdout",
     "output_type": "stream",
     "text": [
      "1 2 3 4 5 6 7 8 9 10 "
     ]
    }
   ],
   "source": [
    "for num in range(1,11,1):\n",
    "    print(num,end=\" \")"
   ]
  },
  {
   "cell_type": "code",
   "execution_count": null,
   "metadata": {},
   "outputs": [],
   "source": [
    "# 1 2 3 4 5 6 7 8 9 10\n",
    "# 1 3 5 7 9"
   ]
  },
  {
   "cell_type": "code",
   "execution_count": 14,
   "metadata": {},
   "outputs": [
    {
     "name": "stdout",
     "output_type": "stream",
     "text": [
      "1 3 5 7 9 "
     ]
    }
   ],
   "source": [
    "for num in range(1,11,2):\n",
    "    print(num,end=\" \")"
   ]
  },
  {
   "cell_type": "markdown",
   "metadata": {},
   "source": [
    "num = 2\n",
    "mul = 5\n",
    "2 * 1 = 2\n",
    "2 * 2 = 4"
   ]
  },
  {
   "cell_type": "code",
   "execution_count": 18,
   "metadata": {},
   "outputs": [
    {
     "name": "stdout",
     "output_type": "stream",
     "text": [
      "1 2 3 4 5 "
     ]
    }
   ],
   "source": [
    "num = 2\n",
    "mul = 5\n",
    "for t in range(1,mul+1):\n",
    "    print(t,end=\" \")"
   ]
  },
  {
   "cell_type": "code",
   "execution_count": 20,
   "metadata": {},
   "outputs": [
    {
     "name": "stdout",
     "output_type": "stream",
     "text": [
      "Enter a table number: 2\n",
      "Enter multiples: 5\n",
      "2 * 1 = 2\n",
      "2 * 2 = 4\n",
      "2 * 3 = 6\n",
      "2 * 4 = 8\n",
      "2 * 5 = 10\n"
     ]
    }
   ],
   "source": [
    "# table format\n",
    "num = int(input(\"Enter a table number: \"))\n",
    "mul = int(input(\"Enter multiples: \"))\n",
    "for t in range(1,mul+1):\n",
    "    print(num,\"*\",t,\"=\",num*t)"
   ]
  },
  {
   "cell_type": "markdown",
   "metadata": {},
   "source": [
    "- Syntax(Nested For)\n",
    "    - for iterating_var in sequence:\n",
    "        for iterating_var in sequence:\n",
    "            statements\n",
    "         statements"
   ]
  },
  {
   "cell_type": "code",
   "execution_count": 28,
   "metadata": {},
   "outputs": [
    {
     "name": "stdout",
     "output_type": "stream",
     "text": [
      "1 \n",
      "2 2 \n",
      "3 3 3 \n",
      "4 4 4 4 \n",
      "5 5 5 5 5 \n"
     ]
    }
   ],
   "source": [
    "# Basic example\n",
    "for i in range(1,6):# 1 to 10\n",
    "    for j in range(0,i): # \n",
    "        print(i,end=\" \")\n",
    "    print('')"
   ]
  },
  {
   "cell_type": "code",
   "execution_count": null,
   "metadata": {},
   "outputs": [],
   "source": [
    "1 1 1 1 1\n",
    "2 2 2 2\n",
    "3 3 3\n",
    "4 4\n",
    "5"
   ]
  },
  {
   "cell_type": "code",
   "execution_count": 35,
   "metadata": {},
   "outputs": [
    {
     "name": "stdout",
     "output_type": "stream",
     "text": [
      "1 1 1 1 1 \n",
      "2 2 2 2 \n",
      "3 3 3 \n",
      "4 4 \n",
      "5 \n"
     ]
    }
   ],
   "source": [
    "for i in range(1,6):\n",
    "    for j in range(5,i-1,-1):\n",
    "        print(i,end=\" \")\n",
    "    print('')"
   ]
  },
  {
   "cell_type": "code",
   "execution_count": 36,
   "metadata": {},
   "outputs": [
    {
     "name": "stdout",
     "output_type": "stream",
     "text": [
      "*  \n",
      "* *  \n",
      "* * *  \n",
      "* * * *  \n",
      "* * * * *  \n",
      "* * * *  \n",
      "* * *  \n",
      "* *  \n",
      "*  \n",
      " \n"
     ]
    }
   ],
   "source": [
    "rows = 5\n",
    "for i in range(0,rows):\n",
    "    for j in range(0,i+1):\n",
    "        print(\"*\",end=\" \")\n",
    "    print(\" \")\n",
    "for i in range(rows,0,-1):\n",
    "    for j in range(0,i-1):\n",
    "        print(\"*\",end=\" \")\n",
    "    print(\" \")"
   ]
  },
  {
   "cell_type": "code",
   "execution_count": 40,
   "metadata": {},
   "outputs": [
    {
     "name": "stdout",
     "output_type": "stream",
     "text": [
      "Enter lower range: 1\n",
      "Enter upper range: 10\n",
      "2\n",
      "3\n",
      "5\n",
      "7\n"
     ]
    }
   ],
   "source": [
    "# prime numbers in a range\n",
    "lower = int(input(\"Enter lower range: \"))#1\n",
    "upper = int(input(\"Enter upper range: \"))#10\n",
    "for num in range(lower,upper+1):# 1 2 3 4 5 6 7 8 9 10\n",
    "    c = 0\n",
    "    for i in range(1,num+1):# 1 1 2 \n",
    "        if num % i == 0:\n",
    "            c += 1\n",
    "    if c == 2:\n",
    "        print(i)"
   ]
  },
  {
   "cell_type": "markdown",
   "metadata": {},
   "source": [
    "- while loop\n",
    "    - where we dont know iterations in advance\n",
    "    - statements in while loop executed until the condition is satisfied in while\n",
    "    - syntax\n",
    "        - while condition:\n",
    "            statements\n",
    "            increment"
   ]
  },
  {
   "cell_type": "code",
   "execution_count": 1,
   "metadata": {},
   "outputs": [
    {
     "name": "stdout",
     "output_type": "stream",
     "text": [
      "2\n",
      "3\n",
      "4\n"
     ]
    }
   ],
   "source": [
    "# Basic Example\n",
    "num = 2\n",
    "while num < 5:\n",
    "    print(num)\n",
    "    num = num + 1"
   ]
  },
  {
   "cell_type": "code",
   "execution_count": 1,
   "metadata": {},
   "outputs": [
    {
     "name": "stdout",
     "output_type": "stream",
     "text": [
      "2 3 4 5 6 7 8 9 10 11 "
     ]
    }
   ],
   "source": [
    "# print natural numbers using while\n",
    "i = 1\n",
    "n = 10\n",
    "while i <= n:\n",
    "    i += 1\n",
    "    print(i,end=\" \")"
   ]
  },
  {
   "cell_type": "code",
   "execution_count": 2,
   "metadata": {},
   "outputs": [
    {
     "name": "stdout",
     "output_type": "stream",
     "text": [
      "3\n",
      "4\n",
      "5\n",
      "6\n"
     ]
    }
   ],
   "source": [
    "n=2\n",
    "while n<6:\n",
    "    n+=1 \n",
    "    print(n)"
   ]
  },
  {
   "cell_type": "markdown",
   "metadata": {},
   "source": [
    "- Jump Statements(keywords in python)\n",
    "    - used to alter the flow of loop like to skip a part of loop or terminate a loop\n",
    "    - break\n",
    "    - continue\n",
    "    - pass"
   ]
  },
  {
   "cell_type": "markdown",
   "metadata": {},
   "source": [
    "- Break\n",
    "    - Terminates the loop statement and transfres the execution to the statement immediately following the loop\n",
    "    - used in both for and while loop\n",
    "    - used in nested loops , stops the execution of innermost loop"
   ]
  },
  {
   "cell_type": "code",
   "execution_count": 3,
   "metadata": {},
   "outputs": [
    {
     "name": "stdout",
     "output_type": "stream",
     "text": [
      "current letter:  p\n",
      "current letter:  y\n",
      "current letter:  t\n"
     ]
    }
   ],
   "source": [
    "# basic using for\n",
    "for letter in 'python':# p y t h o n\n",
    "    if letter == 'h': # \n",
    "        break\n",
    "    print('current letter: ',letter)# p y t "
   ]
  },
  {
   "cell_type": "code",
   "execution_count": 6,
   "metadata": {},
   "outputs": [
    {
     "name": "stdout",
     "output_type": "stream",
     "text": [
      "current value:  10\n",
      "current value:  9\n",
      "current value:  8\n",
      "current value:  7\n",
      "current value:  6\n",
      "Good bye...\n"
     ]
    }
   ],
   "source": [
    "# basic using while\n",
    "num = 10\n",
    "while num > 0:\n",
    "    print('current value: ',num)\n",
    "    num -= 1\n",
    "    if num == 5:\n",
    "        break\n",
    "print(\"Good bye...\")"
   ]
  },
  {
   "cell_type": "markdown",
   "metadata": {},
   "source": [
    "- Continue\n",
    "    - rejects all the remaining statements in current iteration of the loop\n",
    "    - moves control back to top of the loop"
   ]
  },
  {
   "cell_type": "code",
   "execution_count": 7,
   "metadata": {},
   "outputs": [
    {
     "name": "stdout",
     "output_type": "stream",
     "text": [
      "Current letter:  p\n",
      "Current letter:  y\n",
      "Current letter:  t\n",
      "Current letter:  o\n",
      "Current letter:  n\n"
     ]
    }
   ],
   "source": [
    "# basic using for\n",
    "for letter in 'python':\n",
    "    if letter == 'h':\n",
    "        continue\n",
    "    print('Current letter: ',letter)"
   ]
  },
  {
   "cell_type": "code",
   "execution_count": 10,
   "metadata": {},
   "outputs": [
    {
     "name": "stdout",
     "output_type": "stream",
     "text": [
      "current value:  9\n",
      "current value:  8\n",
      "current value:  7\n",
      "current value:  6\n",
      "current value:  4\n",
      "current value:  3\n",
      "current value:  2\n",
      "current value:  1\n",
      "current value:  0\n",
      "Good bye....\n"
     ]
    }
   ],
   "source": [
    "# using while\n",
    "num = 10\n",
    "while num > 0:\n",
    "    num = num - 1\n",
    "    if num == 5:\n",
    "        continue\n",
    "    print('current value: ',num)\n",
    "print('Good bye....')"
   ]
  },
  {
   "cell_type": "markdown",
   "metadata": {},
   "source": [
    "- Pass\n",
    "    - perform null operation, nothing happens when it executes\n",
    "    - useful in places where code will eventually go but has not written yet\n",
    "    - differene between pass and comment\n",
    "        - Interpreter ignores the comment completely \n",
    "        - but it doesn't ignore pass statement"
   ]
  },
  {
   "cell_type": "code",
   "execution_count": 19,
   "metadata": {},
   "outputs": [
    {
     "name": "stdout",
     "output_type": "stream",
     "text": [
      "30\n"
     ]
    }
   ],
   "source": [
    "num = int(input())\n",
    "if num < 10:\n",
    "    print(num)\n",
    "else:\n",
    "    pass"
   ]
  },
  {
   "cell_type": "code",
   "execution_count": 15,
   "metadata": {},
   "outputs": [
    {
     "name": "stdout",
     "output_type": "stream",
     "text": [
      "current letter:  p\n",
      "current letter:  y\n",
      "current letter:  t\n",
      "pass block\n",
      "current letter:  h\n",
      "current letter:  o\n",
      "current letter:  n\n",
      "Good bye...\n"
     ]
    }
   ],
   "source": [
    "for letter in 'python':\n",
    "    if letter == 'h':\n",
    "        pass\n",
    "        print('pass block')\n",
    "    print('current letter: ',letter)\n",
    "print('Good bye...')"
   ]
  },
  {
   "cell_type": "markdown",
   "metadata": {},
   "source": [
    "- Tasks\n",
    "    - print all tables in range using nested for\n",
    "        - input - 4\n",
    "        - multiples - 5\n",
    "        - 1 * 1 = 1  2 * 1 = 2 3 * 1 = 3\n",
    "        - 1 * 2 = 2\n",
    "        - 1 * 3 = 3\n",
    "        - 1 * 4 = 4\n",
    "        - 1 * 5 = 5\n",
    "    - print even or odd numbers in range using while \n",
    "    - print prime numbers in range using jump statement "
   ]
  },
  {
   "cell_type": "code",
   "execution_count": 21,
   "metadata": {},
   "outputs": [
    {
     "name": "stdout",
     "output_type": "stream",
     "text": [
      "1700\n",
      "Not leap\n"
     ]
    }
   ],
   "source": [
    "year = int(input())\n",
    "if year % 400 == 0 or (year % 4 == 0 and year % 100 != 0):\n",
    "    print('leap')\n",
    "else:\n",
    "    print('Not leap')"
   ]
  },
  {
   "cell_type": "code",
   "execution_count": null,
   "metadata": {},
   "outputs": [],
   "source": []
  }
 ],
 "metadata": {
  "kernelspec": {
   "display_name": "Python 3",
   "language": "python",
   "name": "python3"
  },
  "language_info": {
   "codemirror_mode": {
    "name": "ipython",
    "version": 3
   },
   "file_extension": ".py",
   "mimetype": "text/x-python",
   "name": "python",
   "nbconvert_exporter": "python",
   "pygments_lexer": "ipython3",
   "version": "3.7.1"
  }
 },
 "nbformat": 4,
 "nbformat_minor": 2
}
