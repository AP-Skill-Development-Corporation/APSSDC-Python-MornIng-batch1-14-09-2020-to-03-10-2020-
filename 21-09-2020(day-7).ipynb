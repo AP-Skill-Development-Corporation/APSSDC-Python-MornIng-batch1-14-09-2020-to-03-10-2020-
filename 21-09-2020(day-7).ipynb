{
 "cells": [
  {
   "cell_type": "code",
   "execution_count": 24,
   "metadata": {},
   "outputs": [
    {
     "name": "stdout",
     "output_type": "stream",
     "text": [
      "enter a string:A P S S D C\n",
      "APSSDC\n",
      "Apssdc\n"
     ]
    }
   ],
   "source": [
    "# task 1\n",
    "s=input(\"enter a string:\")\n",
    "s1=s.replace(' ','')\n",
    "print(s1)\n",
    "print(s1.capitalize())"
   ]
  },
  {
   "cell_type": "code",
   "execution_count": 28,
   "metadata": {},
   "outputs": [
    {
     "name": "stdout",
     "output_type": "stream",
     "text": [
      "enter name:python workshop\n",
      "P. Workshop\n"
     ]
    }
   ],
   "source": [
    "#task2\n",
    "name=input(\"enter name:\")\n",
    "a,b=name.split()\n",
    "#print(a)\n",
    "print(a[0].upper()+\". \"+b.capitalize())"
   ]
  },
  {
   "cell_type": "code",
   "execution_count": 29,
   "metadata": {},
   "outputs": [
    {
     "name": "stdout",
     "output_type": "stream",
     "text": [
      "enter name:puvvula ambika pavani\n",
      "P. Ambika Pavani\n"
     ]
    }
   ],
   "source": [
    "#task2\n",
    "name=input(\"enter name:\")\n",
    "a,b,c=name.split()\n",
    "#print(a)\n",
    "print(a[0].upper()+\". \"+b.capitalize(),c.capitalize())"
   ]
  },
  {
   "cell_type": "code",
   "execution_count": 15,
   "metadata": {},
   "outputs": [
    {
     "name": "stdout",
     "output_type": "stream",
     "text": [
      "enter:apssdc hello pavani ambika vanitha\n",
      "apssdc\n"
     ]
    }
   ],
   "source": [
    "#task3:\n",
    "a=input(\"enter:\")\n",
    "vowels=\"a\",\"e\",\"i\",\"o\",\"u\"\n",
    "for i in a.split(): #apssdc #hello #pavani....\n",
    "    if i.endswith(vowels):\n",
    "        break\n",
    "    else:\n",
    "        print(i)"
   ]
  },
  {
   "cell_type": "code",
   "execution_count": 23,
   "metadata": {},
   "outputs": [
    {
     "name": "stdout",
     "output_type": "stream",
     "text": [
      "enter:Python Workshop 848353\n",
      "Capitals count: 2\n",
      "Smaller count: 12\n",
      "Digits count: 6\n"
     ]
    }
   ],
   "source": [
    "#task 4:\n",
    "a=input(\"enter:\")\n",
    "c=s=d=0\n",
    "for i in range(len(a)): #P #y.....\n",
    "    if a[i].isupper():\n",
    "        c+=1 #c=c+1\n",
    "    elif a[i].islower():\n",
    "        s+=1\n",
    "    elif a[i].isdigit():\n",
    "        d+=1\n",
    "print(\"Capitals count:\",c)\n",
    "print(\"Smaller count:\",s)\n",
    "print(\"Digits count:\",d)"
   ]
  },
  {
   "cell_type": "code",
   "execution_count": 30,
   "metadata": {},
   "outputs": [
    {
     "data": {
      "text/plain": [
       "22"
      ]
     },
     "execution_count": 30,
     "metadata": {},
     "output_type": "execute_result"
    }
   ],
   "source": [
    "s=\"Python Workshop 848353\"\n",
    "len(s)"
   ]
  },
  {
   "cell_type": "code",
   "execution_count": null,
   "metadata": {},
   "outputs": [],
   "source": []
  },
  {
   "cell_type": "code",
   "execution_count": null,
   "metadata": {},
   "outputs": [],
   "source": [
    "# data structures:\n",
    "- datastructure are a way of organizing and storing data.\n",
    "- so that they can be accessed and worked with efficiently"
   ]
  },
  {
   "cell_type": "code",
   "execution_count": null,
   "metadata": {},
   "outputs": [],
   "source": [
    "# python datastructures:\n",
    "1) list\n",
    "2) tuple\n",
    "3) dictionary--->dict\n",
    "4) set"
   ]
  },
  {
   "cell_type": "code",
   "execution_count": null,
   "metadata": {},
   "outputs": [],
   "source": [
    "# lists:\n",
    "- a list is a datastructure that holds an ordered collection of items.\n",
    "- list is a collection which is ordered,changable and allows duplicates.\n",
    "- these are mutable (changable)\n",
    "- you can recognize lists by their square brackets []\n",
    "- it supports different data types."
   ]
  },
  {
   "cell_type": "code",
   "execution_count": 32,
   "metadata": {},
   "outputs": [
    {
     "name": "stdout",
     "output_type": "stream",
     "text": [
      "[]\n",
      "<class 'list'>\n"
     ]
    }
   ],
   "source": [
    "# empty list\n",
    "li=[]\n",
    "print(li)\n",
    "print(type(li))"
   ]
  },
  {
   "cell_type": "code",
   "execution_count": 33,
   "metadata": {},
   "outputs": [
    {
     "name": "stdout",
     "output_type": "stream",
     "text": [
      "[12, 1, 3, 24, 5, 18, 5]\n",
      "<class 'list'>\n"
     ]
    }
   ],
   "source": [
    "# integer list (unordered)\n",
    "li=[12,1,3,24,5,18,5]\n",
    "print(li)\n",
    "print(type(li))"
   ]
  },
  {
   "cell_type": "code",
   "execution_count": 34,
   "metadata": {},
   "outputs": [
    {
     "name": "stdout",
     "output_type": "stream",
     "text": [
      "[1, 2, 3, 4, 5, 6, 7]\n",
      "<class 'list'>\n"
     ]
    }
   ],
   "source": [
    "# integer list (ordered)\n",
    "li=[1,2,3,4,5,6,7]\n",
    "print(li)\n",
    "print(type(li))"
   ]
  },
  {
   "cell_type": "code",
   "execution_count": 35,
   "metadata": {},
   "outputs": [
    {
     "name": "stdout",
     "output_type": "stream",
     "text": [
      "['a', 'b', 'c', 'd']\n",
      "<class 'list'>\n"
     ]
    }
   ],
   "source": [
    "#strings(ordered)\n",
    "li=['a','b','c','d']\n",
    "print(li)\n",
    "print(type(li))"
   ]
  },
  {
   "cell_type": "code",
   "execution_count": 36,
   "metadata": {},
   "outputs": [
    {
     "name": "stdout",
     "output_type": "stream",
     "text": [
      "['a', 'c', 'b', 'd']\n",
      "<class 'list'>\n"
     ]
    }
   ],
   "source": [
    "#strings(unordered)\n",
    "li=['a','c','b','d']\n",
    "print(li)\n",
    "print(type(li))"
   ]
  },
  {
   "cell_type": "code",
   "execution_count": 37,
   "metadata": {},
   "outputs": [
    {
     "name": "stdout",
     "output_type": "stream",
     "text": [
      "[23.56, 78.9, 66.56]\n",
      "<class 'list'>\n"
     ]
    }
   ],
   "source": [
    "#float\n",
    "li=[23.56,78.90,66.56]\n",
    "print(li)\n",
    "print(type(li))"
   ]
  },
  {
   "cell_type": "code",
   "execution_count": 38,
   "metadata": {},
   "outputs": [
    {
     "name": "stdout",
     "output_type": "stream",
     "text": [
      "[45, 'python', 90.67]\n",
      "<class 'list'>\n"
     ]
    }
   ],
   "source": [
    "#multiple datatype elements\n",
    "a=[45,'python',90.67]\n",
    "print(a)\n",
    "print(type(a))"
   ]
  },
  {
   "cell_type": "code",
   "execution_count": 39,
   "metadata": {
    "scrolled": true
   },
   "outputs": [
    {
     "name": "stdout",
     "output_type": "stream",
     "text": [
      "[45, 'python', 90.67, 45, 45, 45, 45]\n",
      "<class 'list'>\n"
     ]
    }
   ],
   "source": [
    "# duplicates allow\n",
    "a=[45,'python',90.67,45,45,45,45]\n",
    "print(a)\n",
    "print(type(a))"
   ]
  },
  {
   "cell_type": "code",
   "execution_count": null,
   "metadata": {},
   "outputs": [],
   "source": [
    "[start:end+1:step+1]--->positive\n",
    "[end:start-1,step-1]---->negtive"
   ]
  },
  {
   "cell_type": "code",
   "execution_count": 45,
   "metadata": {},
   "outputs": [
    {
     "name": "stdout",
     "output_type": "stream",
     "text": [
      "45\n",
      "['python', 90.67, 45, 45, 45]\n",
      "['python', 90.67, 45, 45, 45]\n",
      "[45, 90.67, 45, 45]\n",
      "[45, 45, 45, 45, 90.67, 'python', 45]\n"
     ]
    }
   ],
   "source": [
    "# list supports indexing and slicing\n",
    "print(a[0])\n",
    "print(a[1:-1])\n",
    "print(a[1:6])\n",
    "print(a[::2])\n",
    "print(a[::-1])"
   ]
  },
  {
   "cell_type": "code",
   "execution_count": 48,
   "metadata": {},
   "outputs": [
    {
     "name": "stdout",
     "output_type": "stream",
     "text": [
      "[45, 'python', 90.67, 45, 45, 45, 45]\n",
      "[45, 'python', 90.67, 45, 78, 45, 45]\n"
     ]
    }
   ],
   "source": [
    "#list is mutable (changable)\n",
    "print(a)\n",
    "a[4]=78\n",
    "print(a)"
   ]
  },
  {
   "cell_type": "code",
   "execution_count": 54,
   "metadata": {},
   "outputs": [
    {
     "name": "stdout",
     "output_type": "stream",
     "text": [
      "<class 'list'>\n",
      "7\n",
      "25\n",
      "3\n",
      "76\n",
      "[3, 5, 10, 10, 11, 12, 25]\n"
     ]
    }
   ],
   "source": [
    "# some builtin functions:\n",
    "li=[12,25,11,10,3,5,10]\n",
    "print(type(li))\n",
    "print(len(li))\n",
    "print(max(li))\n",
    "print(min(li))\n",
    "print(sum(li))\n",
    "print(sorted(li))"
   ]
  },
  {
   "cell_type": "code",
   "execution_count": 55,
   "metadata": {},
   "outputs": [
    {
     "name": "stdout",
     "output_type": "stream",
     "text": [
      "<class 'list'>\n",
      "6\n",
      "y\n",
      "h\n",
      "['h', 'n', 'o', 'p', 't', 'y']\n"
     ]
    },
    {
     "ename": "TypeError",
     "evalue": "unsupported operand type(s) for +: 'int' and 'str'",
     "output_type": "error",
     "traceback": [
      "\u001b[1;31m---------------------------------------------------------------------------\u001b[0m",
      "\u001b[1;31mTypeError\u001b[0m                                 Traceback (most recent call last)",
      "\u001b[1;32m<ipython-input-55-91507f3c8d20>\u001b[0m in \u001b[0;36m<module>\u001b[1;34m\u001b[0m\n\u001b[0;32m      5\u001b[0m \u001b[0mprint\u001b[0m\u001b[1;33m(\u001b[0m\u001b[0mmin\u001b[0m\u001b[1;33m(\u001b[0m\u001b[0mli\u001b[0m\u001b[1;33m)\u001b[0m\u001b[1;33m)\u001b[0m\u001b[1;33m\u001b[0m\u001b[1;33m\u001b[0m\u001b[0m\n\u001b[0;32m      6\u001b[0m \u001b[0mprint\u001b[0m\u001b[1;33m(\u001b[0m\u001b[0msorted\u001b[0m\u001b[1;33m(\u001b[0m\u001b[0mli\u001b[0m\u001b[1;33m)\u001b[0m\u001b[1;33m)\u001b[0m\u001b[1;33m\u001b[0m\u001b[1;33m\u001b[0m\u001b[0m\n\u001b[1;32m----> 7\u001b[1;33m \u001b[0mprint\u001b[0m\u001b[1;33m(\u001b[0m\u001b[0msum\u001b[0m\u001b[1;33m(\u001b[0m\u001b[0mli\u001b[0m\u001b[1;33m)\u001b[0m\u001b[1;33m)\u001b[0m\u001b[1;33m\u001b[0m\u001b[1;33m\u001b[0m\u001b[0m\n\u001b[0m",
      "\u001b[1;31mTypeError\u001b[0m: unsupported operand type(s) for +: 'int' and 'str'"
     ]
    }
   ],
   "source": [
    "li=['p','y','t','h','o','n']\n",
    "print(type(li))\n",
    "print(len(li))\n",
    "print(max(li))\n",
    "print(min(li))\n",
    "print(sorted(li)) #alabetic order\n",
    "print(sum(li)) # sum not supported here"
   ]
  },
  {
   "cell_type": "code",
   "execution_count": 67,
   "metadata": {},
   "outputs": [
    {
     "name": "stdout",
     "output_type": "stream",
     "text": [
      "True\n",
      "True\n",
      "False\n",
      "True\n",
      "[]\n",
      "[(0, 'pavani'), (1, 'ambika'), (2, 'vanitha'), (3, 67)]\n",
      "[]\n",
      "[(23, 'pavani'), (4, 'ambika'), (5, 'vanitha'), (67, 67)]\n"
     ]
    }
   ],
   "source": [
    "number=[]\n",
    "names=['pavani','ambika','vanitha',67]\n",
    "rollno=[23,4,5,67,78]\n",
    "print(all(number)) #list based\n",
    "print(all(names))  #list based\n",
    "print(any(number)) #based on elements\n",
    "print(any(names))  #based on elements\n",
    "print(list(enumerate(number)))\n",
    "print(list(enumerate(names))) #with index values\n",
    "print(list(zip(number,names)))\n",
    "print(list(zip(rollno,names))) #pairs"
   ]
  },
  {
   "cell_type": "code",
   "execution_count": 69,
   "metadata": {},
   "outputs": [
    {
     "name": "stdout",
     "output_type": "stream",
     "text": [
      "[1, 2, 3, 4, 5, 5, 6, 7, 8, 9]\n"
     ]
    }
   ],
   "source": [
    "#concatination\n",
    "li1=[1,2,3,4,5]\n",
    "li2=[5,6,7,8,9]\n",
    "print(li1+li2)"
   ]
  },
  {
   "cell_type": "code",
   "execution_count": 70,
   "metadata": {},
   "outputs": [
    {
     "name": "stdout",
     "output_type": "stream",
     "text": [
      "[1, 2, 3, 4, 5, 1, 2, 3, 4, 5]\n"
     ]
    }
   ],
   "source": [
    "#replication\n",
    "print(li1*2)"
   ]
  },
  {
   "cell_type": "code",
   "execution_count": null,
   "metadata": {},
   "outputs": [],
   "source": []
  },
  {
   "cell_type": "code",
   "execution_count": 71,
   "metadata": {},
   "outputs": [
    {
     "ename": "TypeError",
     "evalue": "can't multiply sequence by non-int of type 'list'",
     "output_type": "error",
     "traceback": [
      "\u001b[1;31m---------------------------------------------------------------------------\u001b[0m",
      "\u001b[1;31mTypeError\u001b[0m                                 Traceback (most recent call last)",
      "\u001b[1;32m<ipython-input-71-cded849fc44e>\u001b[0m in \u001b[0;36m<module>\u001b[1;34m\u001b[0m\n\u001b[1;32m----> 1\u001b[1;33m \u001b[0mprint\u001b[0m\u001b[1;33m(\u001b[0m\u001b[0mli1\u001b[0m\u001b[1;33m*\u001b[0m\u001b[0mli2\u001b[0m\u001b[1;33m)\u001b[0m\u001b[1;33m\u001b[0m\u001b[1;33m\u001b[0m\u001b[0m\n\u001b[0m",
      "\u001b[1;31mTypeError\u001b[0m: can't multiply sequence by non-int of type 'list'"
     ]
    }
   ],
   "source": [
    "print(li1*li2)"
   ]
  },
  {
   "cell_type": "code",
   "execution_count": 73,
   "metadata": {},
   "outputs": [
    {
     "name": "stdout",
     "output_type": "stream",
     "text": [
      "['python', 'workshop']\n"
     ]
    }
   ],
   "source": [
    "li1=['python']\n",
    "li2=['workshop']\n",
    "print(li1+li2)"
   ]
  },
  {
   "cell_type": "code",
   "execution_count": 74,
   "metadata": {},
   "outputs": [
    {
     "data": {
      "text/plain": [
       "['python', 'python']"
      ]
     },
     "execution_count": 74,
     "metadata": {},
     "output_type": "execute_result"
    }
   ],
   "source": [
    "li1*2"
   ]
  },
  {
   "cell_type": "code",
   "execution_count": 75,
   "metadata": {},
   "outputs": [
    {
     "ename": "TypeError",
     "evalue": "can't multiply sequence by non-int of type 'list'",
     "output_type": "error",
     "traceback": [
      "\u001b[1;31m---------------------------------------------------------------------------\u001b[0m",
      "\u001b[1;31mTypeError\u001b[0m                                 Traceback (most recent call last)",
      "\u001b[1;32m<ipython-input-75-1ce5f2d13824>\u001b[0m in \u001b[0;36m<module>\u001b[1;34m\u001b[0m\n\u001b[1;32m----> 1\u001b[1;33m \u001b[0mli1\u001b[0m\u001b[1;33m*\u001b[0m\u001b[0mli2\u001b[0m\u001b[1;33m\u001b[0m\u001b[1;33m\u001b[0m\u001b[0m\n\u001b[0m",
      "\u001b[1;31mTypeError\u001b[0m: can't multiply sequence by non-int of type 'list'"
     ]
    }
   ],
   "source": [
    "li1*li2"
   ]
  },
  {
   "cell_type": "code",
   "execution_count": 76,
   "metadata": {},
   "outputs": [
    {
     "name": "stdout",
     "output_type": "stream",
     "text": [
      "[23, 14, 15, [45, 10, 4], 90]\n",
      "<class 'list'>\n"
     ]
    }
   ],
   "source": [
    "#nested list\n",
    "li=[23,14,15,[45,10,4],90]\n",
    "print(li)\n",
    "print(type(li))"
   ]
  },
  {
   "cell_type": "code",
   "execution_count": 79,
   "metadata": {},
   "outputs": [
    {
     "name": "stdout",
     "output_type": "stream",
     "text": [
      "15\n",
      "[45, 10, 4]\n",
      "10\n"
     ]
    }
   ],
   "source": [
    "print(li[2])\n",
    "print(li[3])\n",
    "print(li[3][1])"
   ]
  },
  {
   "cell_type": "code",
   "execution_count": 84,
   "metadata": {},
   "outputs": [
    {
     "name": "stdout",
     "output_type": "stream",
     "text": [
      "4\n"
     ]
    },
    {
     "ename": "TypeError",
     "evalue": "'<' not supported between instances of 'list' and 'int'",
     "output_type": "error",
     "traceback": [
      "\u001b[1;31m---------------------------------------------------------------------------\u001b[0m",
      "\u001b[1;31mTypeError\u001b[0m                                 Traceback (most recent call last)",
      "\u001b[1;32m<ipython-input-84-6ea1c41991de>\u001b[0m in \u001b[0;36m<module>\u001b[1;34m\u001b[0m\n\u001b[0;32m      1\u001b[0m \u001b[0mprint\u001b[0m\u001b[1;33m(\u001b[0m\u001b[0mmin\u001b[0m\u001b[1;33m(\u001b[0m\u001b[0mli\u001b[0m\u001b[1;33m[\u001b[0m\u001b[1;36m3\u001b[0m\u001b[1;33m]\u001b[0m\u001b[1;33m)\u001b[0m\u001b[1;33m)\u001b[0m\u001b[1;33m\u001b[0m\u001b[1;33m\u001b[0m\u001b[0m\n\u001b[1;32m----> 2\u001b[1;33m \u001b[0mprint\u001b[0m\u001b[1;33m(\u001b[0m\u001b[0mmin\u001b[0m\u001b[1;33m(\u001b[0m\u001b[0mli\u001b[0m\u001b[1;33m)\u001b[0m\u001b[1;33m)\u001b[0m\u001b[1;33m\u001b[0m\u001b[1;33m\u001b[0m\u001b[0m\n\u001b[0m",
      "\u001b[1;31mTypeError\u001b[0m: '<' not supported between instances of 'list' and 'int'"
     ]
    }
   ],
   "source": [
    "print(min(li[3]))\n",
    "print(min(li))"
   ]
  },
  {
   "cell_type": "code",
   "execution_count": 81,
   "metadata": {},
   "outputs": [
    {
     "name": "stdout",
     "output_type": "stream",
     "text": [
      "['__add__', '__class__', '__contains__', '__delattr__', '__delitem__', '__dir__', '__doc__', '__eq__', '__format__', '__ge__', '__getattribute__', '__getitem__', '__gt__', '__hash__', '__iadd__', '__imul__', '__init__', '__init_subclass__', '__iter__', '__le__', '__len__', '__lt__', '__mul__', '__ne__', '__new__', '__reduce__', '__reduce_ex__', '__repr__', '__reversed__', '__rmul__', '__setattr__', '__setitem__', '__sizeof__', '__str__', '__subclasshook__', 'append', 'clear', 'copy', 'count', 'extend', 'index', 'insert', 'pop', 'remove', 'reverse', 'sort'] "
     ]
    }
   ],
   "source": [
    "print(dir(list),end=\" \")"
   ]
  },
  {
   "cell_type": "code",
   "execution_count": 97,
   "metadata": {},
   "outputs": [
    {
     "name": "stdout",
     "output_type": "stream",
     "text": [
      "[3, 34, 10, 56, 23, 90, 40, [50, 67, 89]]\n"
     ]
    }
   ],
   "source": [
    "# append the elements in end position\n",
    "li=[3,34,10,56,23,90]\n",
    "li.append(40)#only one element\n",
    "li.append([50,67,89])\n",
    "print(li)"
   ]
  },
  {
   "cell_type": "code",
   "execution_count": 96,
   "metadata": {},
   "outputs": [
    {
     "name": "stdout",
     "output_type": "stream",
     "text": [
      "[3, 34, 10, [40, 89, 90], 50, 56, 23, 90]\n"
     ]
    }
   ],
   "source": [
    "# inserts the elements in particular position\n",
    "li=[3,34,10,56,23,90]\n",
    "li.insert(3,50)\n",
    "li.insert(3,[40,89,90]) # only 2 arguments (position,value)\n",
    "print(li)"
   ]
  },
  {
   "cell_type": "code",
   "execution_count": 103,
   "metadata": {},
   "outputs": [
    {
     "name": "stdout",
     "output_type": "stream",
     "text": [
      "[3, 34, 10, 23]\n"
     ]
    }
   ],
   "source": [
    "li=[3,34,10,56,23,90] #last element pops and using indexing pops\n",
    "li.pop()  #90\n",
    "li.pop(3) #56 #only one arument\n",
    "print(li)"
   ]
  },
  {
   "cell_type": "code",
   "execution_count": 107,
   "metadata": {},
   "outputs": [
    {
     "name": "stdout",
     "output_type": "stream",
     "text": [
      "[3, 34, 10, 56, 90]\n"
     ]
    }
   ],
   "source": [
    "li=[3,34,10,56,23,90] # value removes\n",
    "li.remove(23)  #one argument #value based\n",
    "print(li)"
   ]
  },
  {
   "cell_type": "code",
   "execution_count": 109,
   "metadata": {},
   "outputs": [
    {
     "name": "stdout",
     "output_type": "stream",
     "text": [
      "[90, 23, 56, 10, 34, 3]\n"
     ]
    }
   ],
   "source": [
    "li=[3,34,10,56,23,90]\n",
    "li.reverse()\n",
    "print(li)"
   ]
  },
  {
   "cell_type": "code",
   "execution_count": 114,
   "metadata": {},
   "outputs": [
    {
     "name": "stdout",
     "output_type": "stream",
     "text": [
      "3\n",
      "5\n",
      "[3, 10, 23, 34, 56, 90, 90, 90]\n",
      "[90, 90, 90, 56, 34, 23, 10, 3]\n"
     ]
    }
   ],
   "source": [
    "li=[3,34,10,56,23,90,90,90]\n",
    "print(li.count(90))\n",
    "print(li.index(90))\n",
    "li.sort() #ascending order\n",
    "print(li)\n",
    "li.sort(reverse=True) #desecending order\n",
    "print(li)"
   ]
  },
  {
   "cell_type": "code",
   "execution_count": 115,
   "metadata": {},
   "outputs": [
    {
     "name": "stdout",
     "output_type": "stream",
     "text": [
      " Descending order:  [74, 6, 4, 3, 2, 1]\n"
     ]
    }
   ],
   "source": [
    "aa=[1,2,3,4,74,6]\n",
    "aa.sort()\n",
    "aa.reverse()\n",
    "print(\" Descending order: \",aa)"
   ]
  },
  {
   "cell_type": "code",
   "execution_count": 116,
   "metadata": {},
   "outputs": [
    {
     "name": "stdout",
     "output_type": "stream",
     "text": [
      " Descending order:  [74, 6, 4, 3, 2, 1]\n"
     ]
    }
   ],
   "source": [
    "aa=[1,2,3,4,74,6]\n",
    "aa.sort(reverse=True)\n",
    "print(\" Descending order: \",aa)"
   ]
  },
  {
   "cell_type": "code",
   "execution_count": 124,
   "metadata": {},
   "outputs": [
    {
     "name": "stdout",
     "output_type": "stream",
     "text": [
      "None\n"
     ]
    }
   ],
   "source": [
    "aa=[1,2,3,4,74,6]\n",
    "print(aa.sort(reverse=True))"
   ]
  },
  {
   "cell_type": "code",
   "execution_count": 122,
   "metadata": {},
   "outputs": [
    {
     "name": "stdout",
     "output_type": "stream",
     "text": [
      "90\n",
      "1400\n",
      "None\n"
     ]
    }
   ],
   "source": [
    "def add(a,b):\n",
    "    print(a+b)\n",
    "    print(a*b)\n",
    "a=add(20,70)\n",
    "print(a)"
   ]
  },
  {
   "cell_type": "code",
   "execution_count": 123,
   "metadata": {},
   "outputs": [
    {
     "name": "stdout",
     "output_type": "stream",
     "text": [
      "90\n"
     ]
    }
   ],
   "source": [
    "def add(a,b):\n",
    "    return a+b\n",
    "    print(a*b)\n",
    "a=add(20,70)\n",
    "print(a)"
   ]
  },
  {
   "cell_type": "code",
   "execution_count": 125,
   "metadata": {},
   "outputs": [
    {
     "name": "stdout",
     "output_type": "stream",
     "text": [
      "[12, 13, 14, 10, 80, 34, 56, 78, 23, 10]\n",
      "[34, 56, 78, 23, 10]\n"
     ]
    }
   ],
   "source": [
    "li1=[12,13,14,10,80]\n",
    "li2=[34,56,78,23,10]\n",
    "li1.extend(li2)\n",
    "print(li1)\n",
    "print(li2)"
   ]
  },
  {
   "cell_type": "code",
   "execution_count": 126,
   "metadata": {},
   "outputs": [
    {
     "name": "stdout",
     "output_type": "stream",
     "text": [
      "[12, 13, 14, 10, 80]\n",
      "[34, 56, 78, 23, 10, 12, 13, 14, 10, 80]\n"
     ]
    }
   ],
   "source": [
    "li1=[12,13,14,10,80]\n",
    "li2=[34,56,78,23,10]\n",
    "li2.extend(li1)\n",
    "print(li1)\n",
    "print(li2)"
   ]
  },
  {
   "cell_type": "code",
   "execution_count": null,
   "metadata": {},
   "outputs": [],
   "source": [
    "=--->assignment\n",
    "==--->comparision"
   ]
  },
  {
   "cell_type": "code",
   "execution_count": 129,
   "metadata": {},
   "outputs": [
    {
     "name": "stdout",
     "output_type": "stream",
     "text": [
      "[12, 13, 14, 10, 80]\n",
      "[12, 13, 14, 10, 80]\n",
      "[12, 13, 14, 10, 80, 90]\n",
      "[12, 13, 14, 10, 80, 90]\n"
     ]
    }
   ],
   "source": [
    "#assignment  #both changes\n",
    "li1=[12,13,14,10,80]\n",
    "cli1=li1\n",
    "print(li1)\n",
    "print(cli1)\n",
    "li1.append(90)\n",
    "print(li1)\n",
    "print(cli1)"
   ]
  },
  {
   "cell_type": "code",
   "execution_count": 130,
   "metadata": {},
   "outputs": [
    {
     "name": "stdout",
     "output_type": "stream",
     "text": [
      "[12, 13, 14, 10, 80]\n",
      "[12, 13, 14, 10, 80]\n",
      "[12, 13, 14, 10, 80, 90]\n",
      "[12, 13, 14, 10, 80]\n"
     ]
    }
   ],
   "source": [
    "#copy   #not both chnaged\n",
    "li1=[12,13,14,10,80]\n",
    "cli1=li1.copy()\n",
    "print(li1)\n",
    "print(cli1)\n",
    "li1.append(90)\n",
    "print(li1)\n",
    "print(cli1)"
   ]
  },
  {
   "cell_type": "code",
   "execution_count": 131,
   "metadata": {},
   "outputs": [
    {
     "data": {
      "text/plain": [
       "[]"
      ]
     },
     "execution_count": 131,
     "metadata": {},
     "output_type": "execute_result"
    }
   ],
   "source": [
    "li1=[12,13,14,10,80]\n",
    "li1.clear() #it clears values\n",
    "li1"
   ]
  },
  {
   "cell_type": "code",
   "execution_count": 132,
   "metadata": {},
   "outputs": [
    {
     "ename": "NameError",
     "evalue": "name 'li1' is not defined",
     "output_type": "error",
     "traceback": [
      "\u001b[1;31m---------------------------------------------------------------------------\u001b[0m",
      "\u001b[1;31mNameError\u001b[0m                                 Traceback (most recent call last)",
      "\u001b[1;32m<ipython-input-132-8fc294c7d239>\u001b[0m in \u001b[0;36m<module>\u001b[1;34m\u001b[0m\n\u001b[0;32m      1\u001b[0m \u001b[0mli1\u001b[0m\u001b[1;33m=\u001b[0m\u001b[1;33m[\u001b[0m\u001b[1;36m12\u001b[0m\u001b[1;33m,\u001b[0m\u001b[1;36m13\u001b[0m\u001b[1;33m,\u001b[0m\u001b[1;36m14\u001b[0m\u001b[1;33m,\u001b[0m\u001b[1;36m10\u001b[0m\u001b[1;33m,\u001b[0m\u001b[1;36m80\u001b[0m\u001b[1;33m]\u001b[0m\u001b[1;33m\u001b[0m\u001b[1;33m\u001b[0m\u001b[0m\n\u001b[0;32m      2\u001b[0m \u001b[1;32mdel\u001b[0m \u001b[0mli1\u001b[0m\u001b[1;33m\u001b[0m\u001b[1;33m\u001b[0m\u001b[0m\n\u001b[1;32m----> 3\u001b[1;33m \u001b[0mprint\u001b[0m\u001b[1;33m(\u001b[0m\u001b[0mli1\u001b[0m\u001b[1;33m)\u001b[0m\u001b[1;33m\u001b[0m\u001b[1;33m\u001b[0m\u001b[0m\n\u001b[0m",
      "\u001b[1;31mNameError\u001b[0m: name 'li1' is not defined"
     ]
    }
   ],
   "source": [
    "li1=[12,13,14,10,80]\n",
    "del li1\n",
    "print(li1)"
   ]
  },
  {
   "cell_type": "code",
   "execution_count": null,
   "metadata": {},
   "outputs": [],
   "source": [
    "# task 1:\n",
    "li=[12,12,23,45,13,20,23]\n",
    "duplicates remove\n",
    "o/p: [12,23,45,13,20]\n",
    "\n",
    "# task 2\n",
    "li=[12,12,23,45,13,20,23]\n",
    "unique elements\n",
    "o/p: [45,13,20]"
   ]
  },
  {
   "cell_type": "code",
   "execution_count": null,
   "metadata": {},
   "outputs": [],
   "source": []
  },
  {
   "cell_type": "code",
   "execution_count": null,
   "metadata": {},
   "outputs": [],
   "source": [
    "# tuple:\n",
    "- ()\n",
    "- it is immutable"
   ]
  },
  {
   "cell_type": "code",
   "execution_count": 133,
   "metadata": {},
   "outputs": [
    {
     "name": "stdout",
     "output_type": "stream",
     "text": [
      "()\n",
      "<class 'tuple'>\n"
     ]
    }
   ],
   "source": [
    "t=()\n",
    "print(t)\n",
    "print(type(t))"
   ]
  },
  {
   "cell_type": "code",
   "execution_count": 134,
   "metadata": {},
   "outputs": [
    {
     "name": "stdout",
     "output_type": "stream",
     "text": [
      "(23, 67.89, 'python')\n",
      "<class 'tuple'>\n"
     ]
    }
   ],
   "source": [
    "t=(23,67.89,'python')\n",
    "print(t)\n",
    "print(type(t))"
   ]
  },
  {
   "cell_type": "code",
   "execution_count": 135,
   "metadata": {},
   "outputs": [
    {
     "name": "stdout",
     "output_type": "stream",
     "text": [
      "(23, 67.89, 'python', 23, 23, 23)\n",
      "<class 'tuple'>\n"
     ]
    }
   ],
   "source": [
    "t=(23,67.89,'python',23,23,23)\n",
    "print(t)\n",
    "print(type(t))"
   ]
  },
  {
   "cell_type": "code",
   "execution_count": 137,
   "metadata": {},
   "outputs": [
    {
     "ename": "TypeError",
     "evalue": "'tuple' object does not support item assignment",
     "output_type": "error",
     "traceback": [
      "\u001b[1;31m---------------------------------------------------------------------------\u001b[0m",
      "\u001b[1;31mTypeError\u001b[0m                                 Traceback (most recent call last)",
      "\u001b[1;32m<ipython-input-137-a8bbfabda4ed>\u001b[0m in \u001b[0;36m<module>\u001b[1;34m\u001b[0m\n\u001b[1;32m----> 1\u001b[1;33m \u001b[0mt\u001b[0m\u001b[1;33m[\u001b[0m\u001b[1;36m2\u001b[0m\u001b[1;33m]\u001b[0m\u001b[1;33m=\u001b[0m\u001b[1;34m'workshop'\u001b[0m\u001b[1;33m\u001b[0m\u001b[1;33m\u001b[0m\u001b[0m\n\u001b[0m\u001b[0;32m      2\u001b[0m \u001b[0mprint\u001b[0m\u001b[1;33m(\u001b[0m\u001b[0mt\u001b[0m\u001b[1;33m)\u001b[0m\u001b[1;33m\u001b[0m\u001b[1;33m\u001b[0m\u001b[0m\n",
      "\u001b[1;31mTypeError\u001b[0m: 'tuple' object does not support item assignment"
     ]
    }
   ],
   "source": [
    "t[2]='workshop' # tuple immutable\n",
    "print(t)"
   ]
  },
  {
   "cell_type": "code",
   "execution_count": 138,
   "metadata": {},
   "outputs": [
    {
     "name": "stdout",
     "output_type": "stream",
     "text": [
      "['__add__', '__class__', '__contains__', '__delattr__', '__dir__', '__doc__', '__eq__', '__format__', '__ge__', '__getattribute__', '__getitem__', '__getnewargs__', '__gt__', '__hash__', '__init__', '__init_subclass__', '__iter__', '__le__', '__len__', '__lt__', '__mul__', '__ne__', '__new__', '__reduce__', '__reduce_ex__', '__repr__', '__rmul__', '__setattr__', '__sizeof__', '__str__', '__subclasshook__', 'count', 'index'] "
     ]
    }
   ],
   "source": [
    "print(dir(tuple),end=\" \")"
   ]
  },
  {
   "cell_type": "code",
   "execution_count": 139,
   "metadata": {},
   "outputs": [
    {
     "data": {
      "text/plain": [
       "2"
      ]
     },
     "execution_count": 139,
     "metadata": {},
     "output_type": "execute_result"
    }
   ],
   "source": [
    "t=(34,34,56,12,89)\n",
    "t.count(34)"
   ]
  },
  {
   "cell_type": "code",
   "execution_count": 140,
   "metadata": {},
   "outputs": [
    {
     "data": {
      "text/plain": [
       "0"
      ]
     },
     "execution_count": 140,
     "metadata": {},
     "output_type": "execute_result"
    }
   ],
   "source": [
    "t.index(34)"
   ]
  },
  {
   "cell_type": "code",
   "execution_count": 144,
   "metadata": {},
   "outputs": [
    {
     "name": "stdout",
     "output_type": "stream",
     "text": [
      "56\n",
      "78\n",
      "90\n",
      "(56, 78, 90)\n"
     ]
    }
   ],
   "source": [
    "#tuple packing and unpacking\n",
    "t=(56,78,90) #tuple packing\n",
    "a,b,c=t #tuple unpacking\n",
    "print(a)\n",
    "print(b)\n",
    "print(c)\n",
    "print(t)"
   ]
  },
  {
   "cell_type": "code",
   "execution_count": 145,
   "metadata": {},
   "outputs": [
    {
     "name": "stdout",
     "output_type": "stream",
     "text": [
      "<class 'tuple'>\n",
      "[23, 24, 24, 56, 67]\n",
      "<class 'list'>\n"
     ]
    }
   ],
   "source": [
    "#tuple to list\n",
    "t=(23,24,24,56,67)\n",
    "print(type(t))\n",
    "li=list(t)\n",
    "print(li)\n",
    "print(type(li))"
   ]
  },
  {
   "cell_type": "code",
   "execution_count": 146,
   "metadata": {},
   "outputs": [
    {
     "name": "stdout",
     "output_type": "stream",
     "text": [
      "<class 'list'>\n",
      "(23, 4, 56, 789, 12)\n",
      "<class 'tuple'>\n"
     ]
    }
   ],
   "source": [
    "#list to tuple\n",
    "li=[23,4,56,789,12]\n",
    "print(type(li))\n",
    "t=tuple(li)\n",
    "print(t)\n",
    "print(type(t))"
   ]
  },
  {
   "cell_type": "code",
   "execution_count": 149,
   "metadata": {},
   "outputs": [
    {
     "name": "stdout",
     "output_type": "stream",
     "text": [
      "(23, 4, 567, (67, 89, 90), 12)\n",
      "<class 'tuple'>\n",
      "89\n"
     ]
    }
   ],
   "source": [
    "#nested tuple\n",
    "t=(23,4,567,(67,89,90),12)\n",
    "print(t)\n",
    "print(type(t))\n",
    "print(t[3][1])"
   ]
  },
  {
   "cell_type": "code",
   "execution_count": null,
   "metadata": {},
   "outputs": [],
   "source": [
    "# task 1:\n",
    "li=[12,12,23,45,13,20,23]\n",
    "duplicates remove\n",
    "o/p: [12,23,45,13,20]\n",
    "\n",
    "# task 2\n",
    "li=[12,12,23,45,13,20,23]\n",
    "unique elements\n",
    "o/p: [45,13,20]\n",
    "    \n",
    "#task 3:\n",
    "in builtin functions tuple worked or not"
   ]
  }
 ],
 "metadata": {
  "kernelspec": {
   "display_name": "Python 3",
   "language": "python",
   "name": "python3"
  },
  "language_info": {
   "codemirror_mode": {
    "name": "ipython",
    "version": 3
   },
   "file_extension": ".py",
   "mimetype": "text/x-python",
   "name": "python",
   "nbconvert_exporter": "python",
   "pygments_lexer": "ipython3",
   "version": "3.7.3"
  }
 },
 "nbformat": 4,
 "nbformat_minor": 2
}
