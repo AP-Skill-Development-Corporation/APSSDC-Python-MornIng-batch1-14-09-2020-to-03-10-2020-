{
 "cells": [
  {
   "cell_type": "code",
   "execution_count": 5,
   "metadata": {},
   "outputs": [
    {
     "name": "stdout",
     "output_type": "stream",
     "text": [
      "Enter email: ambika.p@apssdc.in\n",
      "Valid email\n"
     ]
    }
   ],
   "source": [
    "# Email validation\n",
    "import re\n",
    "email = input(\"Enter email: \")\n",
    "pattern = \"^[a-z0-9][a-z0-9_.]{5,20}[@][a-z]{5,9}[.][a-z]{2,5}$\"\n",
    "if re.match(pattern,email):\n",
    "    print(\"Valid email\")\n",
    "else:\n",
    "    print(\"Invalid \")"
   ]
  },
  {
   "cell_type": "markdown",
   "metadata": {},
   "source": [
    "- File Handling\n",
    "    - used to store related information\n",
    "    - steps\n",
    "        - open\n",
    "            - use open() to open file in read or write mode.\n",
    "                - open(filelocation,mode)\n",
    "                - It returns file object\n",
    "                - must use close() at the end\n",
    "            - with open()\n",
    "                - doesn't require close()\n",
    "                - thw word with automatically closes the file at the end of operation\n",
    "        - Doing Operations\n",
    "            - read  or write\n",
    "        - close\n",
    "            - use close() function to close a file\n",
    "            - changes will not be saved\n",
    "     - Modes\n",
    "         - read mode -- 'r'\n",
    "         - write mode -- 'w'\n",
    "         - append mode -- 'a'"
   ]
  },
  {
   "cell_type": "code",
   "execution_count": 6,
   "metadata": {},
   "outputs": [
    {
     "name": "stdout",
     "output_type": "stream",
     "text": [
      "Good Morning everyone, welcome to python online session\n"
     ]
    }
   ],
   "source": [
    "# if we didn't mention any mode in open() it defaults taken as read\n",
    "f = open('Datafiles/data.txt')\n",
    "data = f.read()\n",
    "print(data)\n",
    "f.close()"
   ]
  },
  {
   "cell_type": "code",
   "execution_count": 8,
   "metadata": {},
   "outputs": [
    {
     "name": "stdout",
     "output_type": "stream",
     "text": [
      "Good Morning everyone, welcome to python online session\n",
      "<class '_io.TextIOWrapper'>\n",
      "<class 'str'>\n"
     ]
    }
   ],
   "source": [
    "with open('Datafiles/data.txt','r') as info:\n",
    "    information = info.read()\n",
    "    print(information)\n",
    "    print(type(info))\n",
    "    print(type(information))"
   ]
  },
  {
   "cell_type": "code",
   "execution_count": 10,
   "metadata": {},
   "outputs": [
    {
     "name": "stdout",
     "output_type": "stream",
     "text": [
      "21\n",
      "Python Online Program\n"
     ]
    }
   ],
   "source": [
    "# Write\n",
    "with open('Datafiles/info.txt','w') as f:\n",
    "    fh = f.write('Python Online Program')\n",
    "    print(fh)\n",
    "with open('Datafiles/info.txt') as d:\n",
    "    dh = d.read()\n",
    "    print(dh)"
   ]
  },
  {
   "cell_type": "code",
   "execution_count": 14,
   "metadata": {},
   "outputs": [
    {
     "name": "stdout",
     "output_type": "stream",
     "text": [
      "17\n",
      "Python Online Program On 24th Sep 2020 On 24th Sep 2020 On 24th Sep 2020\n"
     ]
    }
   ],
   "source": [
    "with open('Datafiles/info.txt','a') as f:\n",
    "    fh = f.write(' On 24th Sep 2020')\n",
    "    print(fh)\n",
    "with open('Datafiles/info.txt') as d:\n",
    "    dh = d.read()\n",
    "    print(dh)"
   ]
  },
  {
   "cell_type": "markdown",
   "metadata": {},
   "source": [
    "- tell()\n",
    "    - helps to know cursor position in file\n",
    "- seek()\n",
    "    - helps to move cursor position to particular point"
   ]
  },
  {
   "cell_type": "code",
   "execution_count": 15,
   "metadata": {},
   "outputs": [
    {
     "name": "stdout",
     "output_type": "stream",
     "text": [
      "72\n"
     ]
    }
   ],
   "source": [
    "with open('Datafiles/info.txt') as d:\n",
    "    dh = d.read()\n",
    "    print(d.tell())"
   ]
  },
  {
   "cell_type": "code",
   "execution_count": 16,
   "metadata": {},
   "outputs": [
    {
     "name": "stdout",
     "output_type": "stream",
     "text": [
      "55\n"
     ]
    }
   ],
   "source": [
    "with open('Datafiles/data.txt') as d:\n",
    "    dh = d.read()\n",
    "    print(d.tell())"
   ]
  },
  {
   "cell_type": "code",
   "execution_count": 17,
   "metadata": {},
   "outputs": [
    {
     "name": "stdout",
     "output_type": "stream",
     "text": [
      "ng everyone, welcome to python online se\n"
     ]
    }
   ],
   "source": [
    "with open('Datafiles/data.txt') as d:\n",
    "    d.read()\n",
    "    d.seek(10)\n",
    "    print(d.read(40))"
   ]
  },
  {
   "cell_type": "code",
   "execution_count": 18,
   "metadata": {},
   "outputs": [
    {
     "name": "stdout",
     "output_type": "stream",
     "text": [
      "ng everyone, welcome to python online session\n"
     ]
    }
   ],
   "source": [
    "with open('Datafiles/data.txt') as d:\n",
    "    d.read()\n",
    "    d.seek(10)\n",
    "    print(d.read())"
   ]
  },
  {
   "cell_type": "code",
   "execution_count": 19,
   "metadata": {},
   "outputs": [
    {
     "name": "stdout",
     "output_type": "stream",
     "text": [
      "\u0000\u0000\u0000\u0000\u0000\u0000\u0000\u0000\u0000\u0000Hiiiii.......\n"
     ]
    }
   ],
   "source": [
    "with open('Datafiles/data1.txt','w') as f:\n",
    "    f.seek(10)\n",
    "    f.write(\"Hiiiii.......\")\n",
    "with open('Datafiles/data1.txt') as f:\n",
    "    fh = f.read()\n",
    "    print(fh)"
   ]
  },
  {
   "cell_type": "code",
   "execution_count": 20,
   "metadata": {},
   "outputs": [
    {
     "name": "stdout",
     "output_type": "stream",
     "text": [
      "['__add__', '__class__', '__contains__', '__delattr__', '__dir__', '__doc__', '__eq__', '__format__', '__ge__', '__getattribute__', '__getitem__', '__getnewargs__', '__gt__', '__hash__', '__init__', '__init_subclass__', '__iter__', '__le__', '__len__', '__lt__', '__mod__', '__mul__', '__ne__', '__new__', '__reduce__', '__reduce_ex__', '__repr__', '__rmod__', '__rmul__', '__setattr__', '__sizeof__', '__str__', '__subclasshook__', 'capitalize', 'casefold', 'center', 'count', 'encode', 'endswith', 'expandtabs', 'find', 'format', 'format_map', 'index', 'isalnum', 'isalpha', 'isascii', 'isdecimal', 'isdigit', 'isidentifier', 'islower', 'isnumeric', 'isprintable', 'isspace', 'istitle', 'isupper', 'join', 'ljust', 'lower', 'lstrip', 'maketrans', 'partition', 'replace', 'rfind', 'rindex', 'rjust', 'rpartition', 'rsplit', 'rstrip', 'split', 'splitlines', 'startswith', 'strip', 'swapcase', 'title', 'translate', 'upper', 'zfill'] "
     ]
    }
   ],
   "source": [
    "print(dir(str),end=\" \")"
   ]
  },
  {
   "cell_type": "code",
   "execution_count": 21,
   "metadata": {},
   "outputs": [
    {
     "name": "stdout",
     "output_type": "stream",
     "text": [
      "['Good', 'Morning', 'everyone,', 'welcome', 'to', 'python', 'online', 'session']\n"
     ]
    }
   ],
   "source": [
    "with open('Datafiles/data.txt') as f:\n",
    "    fh = f.read()\n",
    "    words = fh.split()\n",
    "    print(words)"
   ]
  },
  {
   "cell_type": "code",
   "execution_count": 23,
   "metadata": {},
   "outputs": [
    {
     "name": "stdout",
     "output_type": "stream",
     "text": [
      "Good Morning everyone, welcome to python online session\n",
      "\n",
      "On 23rd sep 2020\n",
      "\n"
     ]
    }
   ],
   "source": [
    "with open('Datafiles/data.txt') as f:\n",
    "    print(f.readline())\n",
    "    print(f.readline())"
   ]
  },
  {
   "cell_type": "code",
   "execution_count": 26,
   "metadata": {},
   "outputs": [
    {
     "name": "stdout",
     "output_type": "stream",
     "text": [
      "['Good Morning everyone, welcome to python online session\\n', 'On 23rd sep 2020\\n', 'organised by APSSDC']\n"
     ]
    }
   ],
   "source": [
    "with open('Datafiles/data.txt') as f:\n",
    "    print(f.readlines())"
   ]
  },
  {
   "cell_type": "code",
   "execution_count": 27,
   "metadata": {},
   "outputs": [
    {
     "name": "stdout",
     "output_type": "stream",
     "text": [
      "3\n"
     ]
    }
   ],
   "source": [
    "with open('Datafiles/data.txt') as f:\n",
    "    fh = f.readlines()\n",
    "    print(len(fh))"
   ]
  },
  {
   "cell_type": "code",
   "execution_count": 29,
   "metadata": {},
   "outputs": [
    {
     "data": {
      "text/plain": [
       "'Good Morning everyone, welcome to python online session\\nOn 23rd sep 2020\\norganised by APSSDC'"
      ]
     },
     "execution_count": 29,
     "metadata": {},
     "output_type": "execute_result"
    }
   ],
   "source": [
    "def readfile(filepath):\n",
    "    with open(filepath,'r') as f:\n",
    "        data = f.read()\n",
    "    return data\n",
    "filepath = 'Datafiles/data.txt'\n",
    "readfile(filepath)"
   ]
  },
  {
   "cell_type": "code",
   "execution_count": 30,
   "metadata": {},
   "outputs": [
    {
     "data": {
      "text/plain": [
       "92"
      ]
     },
     "execution_count": 30,
     "metadata": {},
     "output_type": "execute_result"
    }
   ],
   "source": [
    "# Char count including spaces\n",
    "def charcount(filepath):\n",
    "    count = len(readfile(filepath))\n",
    "    return count\n",
    "filepath = 'Datafiles/data.txt'\n",
    "charcount(filepath)"
   ]
  },
  {
   "cell_type": "code",
   "execution_count": 32,
   "metadata": {},
   "outputs": [
    {
     "name": "stdout",
     "output_type": "stream",
     "text": [
      "First\n",
      "\n"
     ]
    }
   ],
   "source": [
    "data = open('Datafiles/test.txt')\n",
    "read_lines = [0]\n",
    "for number,line in enumerate(data):\n",
    "    if number in read_lines:\n",
    "        print(line)"
   ]
  },
  {
   "cell_type": "markdown",
   "metadata": {},
   "source": [
    "- Char count with out spaces\n",
    "- words count\n",
    "- unique words\n",
    "- Frequency of words\n",
    "    - word : count"
   ]
  },
  {
   "cell_type": "markdown",
   "metadata": {},
   "source": [
    "- File data Processing\n",
    "    - Working with data in the file and doing modifications to that file\n",
    "    - Generate students marks randomly\n",
    "        - class avg\n",
    "        - pass percentage\n",
    "        - fail percentage\n",
    "        - distinction percentage\n",
    "        - highest marks freq\n",
    "        - lowest marks freq"
   ]
  },
  {
   "cell_type": "code",
   "execution_count": 33,
   "metadata": {},
   "outputs": [
    {
     "name": "stdout",
     "output_type": "stream",
     "text": [
      "Enter students count: 50\n",
      "Enter lowest marks range: 1\n",
      "Enter highest marks range: 100\n"
     ]
    }
   ],
   "source": [
    "# Generate student marks randomly\n",
    "from random import randint\n",
    "def marksgen(n,lb,ub):\n",
    "    with open('Datafiles/marks.txt','w') as f:\n",
    "        for i in range(0,n):\n",
    "            r = randint(lb,ub)\n",
    "            f.write(str(r)+'\\n')\n",
    "    return\n",
    "n = int(input(\"Enter students count: \"))\n",
    "lb = int(input(\"Enter lowest marks range: \"))\n",
    "ub = int(input(\"Enter highest marks range: \"))\n",
    "marksgen(n,lb,ub)"
   ]
  },
  {
   "cell_type": "code",
   "execution_count": 34,
   "metadata": {},
   "outputs": [
    {
     "data": {
      "text/plain": [
       "53.42"
      ]
     },
     "execution_count": 34,
     "metadata": {},
     "output_type": "execute_result"
    }
   ],
   "source": [
    "# class Avg\n",
    "def classAvg(filepath):\n",
    "    with open(filepath) as f:\n",
    "        data = f.read()\n",
    "        marks = data.split()\n",
    "        sum = 0\n",
    "        for mark in marks:\n",
    "            sum += int(mark)\n",
    "    return sum / len(marks)\n",
    "filepath = 'Datafiles/marks.txt'\n",
    "classAvg(filepath)"
   ]
  },
  {
   "cell_type": "code",
   "execution_count": 36,
   "metadata": {},
   "outputs": [
    {
     "name": "stdout",
     "output_type": "stream",
     "text": [
      "['64', '72', '59', '36', '40', '4', '37', '96', '15', '16', '28', '83', '58', '98', '34', '29', '62', '9', '21', '85', '85', '69', '44', '76', '29', '87', '19', '92', '2', '71', '64', '74', '47', '41', '97', '9', '76', '51', '53', '61', '61', '84', '98', '100', '49', '76', '13', '1', '17', '79']\n",
      "<class 'list'>\n",
      "<class 'str'>\n",
      "<class 'str'>\n",
      "<class 'str'>\n",
      "<class 'str'>\n",
      "<class 'str'>\n",
      "<class 'str'>\n",
      "<class 'str'>\n",
      "<class 'str'>\n",
      "<class 'str'>\n",
      "<class 'str'>\n",
      "<class 'str'>\n",
      "<class 'str'>\n",
      "<class 'str'>\n",
      "<class 'str'>\n",
      "<class 'str'>\n",
      "<class 'str'>\n",
      "<class 'str'>\n",
      "<class 'str'>\n",
      "<class 'str'>\n",
      "<class 'str'>\n",
      "<class 'str'>\n",
      "<class 'str'>\n",
      "<class 'str'>\n",
      "<class 'str'>\n",
      "<class 'str'>\n",
      "<class 'str'>\n",
      "<class 'str'>\n",
      "<class 'str'>\n",
      "<class 'str'>\n",
      "<class 'str'>\n",
      "<class 'str'>\n",
      "<class 'str'>\n",
      "<class 'str'>\n",
      "<class 'str'>\n",
      "<class 'str'>\n",
      "<class 'str'>\n",
      "<class 'str'>\n",
      "<class 'str'>\n",
      "<class 'str'>\n",
      "<class 'str'>\n",
      "<class 'str'>\n",
      "<class 'str'>\n",
      "<class 'str'>\n",
      "<class 'str'>\n",
      "<class 'str'>\n",
      "<class 'str'>\n",
      "<class 'str'>\n",
      "<class 'str'>\n",
      "<class 'str'>\n",
      "<class 'str'>\n"
     ]
    }
   ],
   "source": [
    "with open('Datafiles/marks.txt') as f:\n",
    "    d = f.read()\n",
    "    dm = d.split()\n",
    "    print(dm)\n",
    "    print(type(dm))\n",
    "    for i in dm:\n",
    "        print(type(i))"
   ]
  },
  {
   "cell_type": "markdown",
   "metadata": {},
   "source": [
    "- % of students passed\n",
    "    - marks >= 35\n",
    "- % of students failed\n",
    "    - 100 - pass percentage\n",
    "- % of students with distinction\n",
    "    - marks >= 75\n",
    "- highest marks frequency\n",
    "- lowest marks frequency"
   ]
  },
  {
   "cell_type": "code",
   "execution_count": 41,
   "metadata": {},
   "outputs": [
    {
     "data": {
      "text/plain": [
       "True"
      ]
     },
     "execution_count": 41,
     "metadata": {},
     "output_type": "execute_result"
    }
   ],
   "source": [
    "# Word Exist\n",
    "def iswordexist(filepath,word):\n",
    "    with open(filepath,'r') as f:\n",
    "        data = f.read()\n",
    "        d = data.split()\n",
    "        if word in d:\n",
    "            count = d.count(word)\n",
    "            return True\n",
    "        return False\n",
    "filepath = 'Datafiles/data.txt'\n",
    "iswordexist(filepath,'python')"
   ]
  },
  {
   "cell_type": "code",
   "execution_count": null,
   "metadata": {},
   "outputs": [],
   "source": [
    "# find and replace"
   ]
  },
  {
   "cell_type": "code",
   "execution_count": 44,
   "metadata": {},
   "outputs": [
    {
     "name": "stdout",
     "output_type": "stream",
     "text": [
      "Enter min. num: 120\n",
      "Enter max. num: 140\n",
      "139 137 135 133 131 129 127 125 123 121 "
     ]
    }
   ],
   "source": [
    "def odd_reverse(a,b):\n",
    "    for i in range(b,a-1,-1):\n",
    "        if i%2 != 0:\n",
    "            print(i,end=\" \")\n",
    "    return\n",
    "a = int(input(\"Enter min. num: \"))\n",
    "b = int(input(\"Enter max. num: \")) \n",
    "odd_reverse(a,b)"
   ]
  },
  {
   "cell_type": "code",
   "execution_count": null,
   "metadata": {},
   "outputs": [],
   "source": []
  }
 ],
 "metadata": {
  "kernelspec": {
   "display_name": "Python 3",
   "language": "python",
   "name": "python3"
  },
  "language_info": {
   "codemirror_mode": {
    "name": "ipython",
    "version": 3
   },
   "file_extension": ".py",
   "mimetype": "text/x-python",
   "name": "python",
   "nbconvert_exporter": "python",
   "pygments_lexer": "ipython3",
   "version": "3.7.1"
  }
 },
 "nbformat": 4,
 "nbformat_minor": 2
}
