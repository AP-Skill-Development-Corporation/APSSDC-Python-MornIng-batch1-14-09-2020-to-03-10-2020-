{
 "cells": [
  {
   "cell_type": "markdown",
   "metadata": {},
   "source": [
    "- Generator:\n",
    "      \n",
    "    - Generator is a function that returns an object(Iterator),\n",
    "          which can iterate over(one value at a time)\n",
    "    \n",
    "   - Instead of return,\n",
    "               yield keyword is used to make a function as generator function\n",
    "                        \n",
    "    \n"
   ]
  },
  {
   "cell_type": "code",
   "execution_count": 5,
   "metadata": {},
   "outputs": [
    {
     "name": "stdout",
     "output_type": "stream",
     "text": [
      "1\n"
     ]
    }
   ],
   "source": [
    "def cube():\n",
    "    n=1\n",
    "    while n<=10:\n",
    "        result=n**3\n",
    "        n=n+1\n",
    "        return result\n",
    "x=cube()\n",
    "print(x)"
   ]
  },
  {
   "cell_type": "code",
   "execution_count": 15,
   "metadata": {},
   "outputs": [
    {
     "name": "stdout",
     "output_type": "stream",
     "text": [
      "<generator object cube at 0x0079E5F0>\n",
      "1 8 27 64 125 216 343 512 729 1000 "
     ]
    }
   ],
   "source": [
    "def cube():\n",
    "    n=1\n",
    "    while n<=10:\n",
    "        result=n**3\n",
    "        n=n+1\n",
    "        yield result\n",
    "x=cube()\n",
    "print(x)\n",
    "for i in x:\n",
    "    print(i,end=' ')"
   ]
  },
  {
   "cell_type": "code",
   "execution_count": 9,
   "metadata": {},
   "outputs": [
    {
     "data": {
      "text/plain": [
       "9"
      ]
     },
     "execution_count": 9,
     "metadata": {},
     "output_type": "execute_result"
    }
   ],
   "source": [
    "def add(a,b):\n",
    "    return a+b\n",
    "    # return a*b\n",
    "    # return a-b\n",
    "    print(a/b)\n",
    "add(4,5)"
   ]
  },
  {
   "cell_type": "code",
   "execution_count": 11,
   "metadata": {},
   "outputs": [
    {
     "name": "stdout",
     "output_type": "stream",
     "text": [
      "5 6 11 -1 "
     ]
    }
   ],
   "source": [
    "def add1(a,b):\n",
    "    yield a\n",
    "    yield b\n",
    "    yield (a+b)\n",
    "    yield (a-b)\n",
    "for i in add1(5,6):\n",
    "    print(i,end=' ')"
   ]
  },
  {
   "cell_type": "code",
   "execution_count": 12,
   "metadata": {},
   "outputs": [
    {
     "name": "stdout",
     "output_type": "stream",
     "text": [
      "b "
     ]
    }
   ],
   "source": [
    "def generator():\n",
    "    return 'b'\n",
    "    return 'n'\n",
    "    return 'h'\n",
    "for i in generator():\n",
    "    print(i,end=' ')"
   ]
  },
  {
   "cell_type": "code",
   "execution_count": 13,
   "metadata": {},
   "outputs": [
    {
     "name": "stdout",
     "output_type": "stream",
     "text": [
      "b n h "
     ]
    }
   ],
   "source": [
    "def generator():\n",
    "    yield 'b'\n",
    "    yield 'n'\n",
    "    yield 'h'\n",
    "for i in generator():\n",
    "    print(i,end=' ')"
   ]
  },
  {
   "cell_type": "code",
   "execution_count": null,
   "metadata": {},
   "outputs": [],
   "source": [
    "Functional Programming:\n",
    "    1.lambda\n",
    "    2.map\n",
    "    3.filter\n",
    "    4.reduce"
   ]
  },
  {
   "cell_type": "code",
   "execution_count": null,
   "metadata": {},
   "outputs": [],
   "source": [
    "--> lambda functions:\n",
    "        \n",
    "          - In python, anonymous function means that a function is without a name\n",
    "          - As we already know that def keyword is used for creating normal functions\n",
    "          - lambda keyword is used to create anonymous functions\n",
    "          "
   ]
  },
  {
   "cell_type": "code",
   "execution_count": null,
   "metadata": {},
   "outputs": [],
   "source": [
    "syntax: lambda arguments:expression"
   ]
  },
  {
   "cell_type": "code",
   "execution_count": 16,
   "metadata": {},
   "outputs": [
    {
     "data": {
      "text/plain": [
       "6"
      ]
     },
     "execution_count": 16,
     "metadata": {},
     "output_type": "execute_result"
    }
   ],
   "source": [
    "def addition(a,b):\n",
    "    return a+b\n",
    "addition(4,2)"
   ]
  },
  {
   "cell_type": "code",
   "execution_count": 18,
   "metadata": {},
   "outputs": [
    {
     "data": {
      "text/plain": [
       "12"
      ]
     },
     "execution_count": 18,
     "metadata": {},
     "output_type": "execute_result"
    }
   ],
   "source": [
    "x=lambda a,b:a+b\n",
    "x(4,8)"
   ]
  },
  {
   "cell_type": "code",
   "execution_count": null,
   "metadata": {},
   "outputs": [],
   "source": [
    "mul: a*b"
   ]
  },
  {
   "cell_type": "code",
   "execution_count": 1,
   "metadata": {},
   "outputs": [
    {
     "data": {
      "text/plain": [
       "45"
      ]
     },
     "execution_count": 1,
     "metadata": {},
     "output_type": "execute_result"
    }
   ],
   "source": [
    "y=lambda a,b:a*b\n",
    "y(5,9)"
   ]
  },
  {
   "cell_type": "code",
   "execution_count": 3,
   "metadata": {},
   "outputs": [
    {
     "name": "stdout",
     "output_type": "stream",
     "text": [
      "216\n"
     ]
    }
   ],
   "source": [
    "cube=lambda x:x**3\n",
    "print(cube(6))"
   ]
  },
  {
   "cell_type": "code",
   "execution_count": null,
   "metadata": {},
   "outputs": [],
   "source": [
    "# normal function\n",
    "syntax: \n",
    "    def functionname(arguments/parameters)://  functioin definition\n",
    "        statements\n",
    "    functioncalling(arguments/parameters)\n",
    "       "
   ]
  },
  {
   "cell_type": "code",
   "execution_count": null,
   "metadata": {},
   "outputs": [],
   "source": [
    "--> lambda function can have any number of arguments, but only one expression\n",
    "    which is evaluated and returned...\n",
    "    "
   ]
  },
  {
   "cell_type": "code",
   "execution_count": null,
   "metadata": {},
   "outputs": [],
   "source": [
    "map():\n",
    "    \n",
    "    map() function returns a list of the results after applying the given functon\n",
    "       to each item of a given iterable(list,tuple,....etc)\n",
    "        \n",
    "syntax: map(function,iterable1,iterable2,.............)\n",
    "    "
   ]
  },
  {
   "cell_type": "code",
   "execution_count": 4,
   "metadata": {},
   "outputs": [
    {
     "data": {
      "text/plain": [
       "25"
      ]
     },
     "execution_count": 4,
     "metadata": {},
     "output_type": "execute_result"
    }
   ],
   "source": [
    "def square(a):\n",
    "    return a*a\n",
    "square(5)"
   ]
  },
  {
   "cell_type": "code",
   "execution_count": 7,
   "metadata": {},
   "outputs": [
    {
     "name": "stdout",
     "output_type": "stream",
     "text": [
      "[16, 4, 36, 1, 64, 25]\n"
     ]
    }
   ],
   "source": [
    "h=map(square,[4,2,6,1,8,5])\n",
    "print(list(h))"
   ]
  },
  {
   "cell_type": "code",
   "execution_count": 8,
   "metadata": {},
   "outputs": [
    {
     "data": {
      "text/plain": [
       "42"
      ]
     },
     "execution_count": 8,
     "metadata": {},
     "output_type": "execute_result"
    }
   ],
   "source": [
    "def mul(a,b):\n",
    "    return a*b\n",
    "mul(6,7)"
   ]
  },
  {
   "cell_type": "code",
   "execution_count": 9,
   "metadata": {},
   "outputs": [
    {
     "name": "stdout",
     "output_type": "stream",
     "text": [
      "(30, 18, 28, 56, 56)\n"
     ]
    }
   ],
   "source": [
    "j=map(mul,[5,6,7,1,8],[6,3,4,56,7])\n",
    "print(tuple(j))"
   ]
  },
  {
   "cell_type": "code",
   "execution_count": 10,
   "metadata": {},
   "outputs": [
    {
     "data": {
      "text/plain": [
       "('APPLE', 'ORANGE', 'BANANA', 'GRAPES')"
      ]
     },
     "execution_count": 10,
     "metadata": {},
     "output_type": "execute_result"
    }
   ],
   "source": [
    "names=['apple','orange','banana','grapes']\n",
    "u=tuple(map(str.upper,names))\n",
    "u"
   ]
  },
  {
   "cell_type": "code",
   "execution_count": null,
   "metadata": {},
   "outputs": [],
   "source": [
    "- map() with lambda"
   ]
  },
  {
   "cell_type": "code",
   "execution_count": 11,
   "metadata": {},
   "outputs": [
    {
     "data": {
      "text/plain": [
       "(25, 9, 4)"
      ]
     },
     "execution_count": 11,
     "metadata": {},
     "output_type": "execute_result"
    }
   ],
   "source": [
    "a=map(lambda x:x**2,[5,3,2])\n",
    "tuple(a)"
   ]
  },
  {
   "cell_type": "code",
   "execution_count": null,
   "metadata": {},
   "outputs": [],
   "source": [
    "filter():\n",
    "    we can use filter() to filter values form the given sequence based on some condition."
   ]
  },
  {
   "cell_type": "code",
   "execution_count": 13,
   "metadata": {},
   "outputs": [
    {
     "name": "stdout",
     "output_type": "stream",
     "text": [
      "[3, 4, 5, 15, 89]\n"
     ]
    }
   ],
   "source": [
    "def new1(i):\n",
    "    if i>=3:\n",
    "        return i\n",
    "        # ..................................\n",
    "j=filter(new1,[3,4,5,1,2,15,89])\n",
    "print(list(j))"
   ]
  },
  {
   "cell_type": "code",
   "execution_count": 14,
   "metadata": {},
   "outputs": [
    {
     "name": "stdout",
     "output_type": "stream",
     "text": [
      "(4, 2, 8)\n"
     ]
    }
   ],
   "source": [
    "def even(i):\n",
    "    if i%2==0:\n",
    "        return i\n",
    "k=filter(even,[4,1,2,3,7,8,9,33,7,99])\n",
    "print(tuple(k))"
   ]
  },
  {
   "cell_type": "code",
   "execution_count": 16,
   "metadata": {},
   "outputs": [
    {
     "name": "stdout",
     "output_type": "stream",
     "text": [
      "(11, 22, 89, 26, 44, 89)\n"
     ]
    }
   ],
   "source": [
    "# - filter() with lambda()\n",
    "n=[3,4,5,11,22,89,26,44,89]\n",
    "r=filter(lambda x:x>=10,n)\n",
    "print(tuple(r))"
   ]
  },
  {
   "cell_type": "code",
   "execution_count": null,
   "metadata": {},
   "outputs": [],
   "source": [
    "reduce():\n",
    "    - This function returns single value\n",
    "    - syntax: reduce(function,iterables)"
   ]
  },
  {
   "cell_type": "code",
   "execution_count": 23,
   "metadata": {},
   "outputs": [],
   "source": [
    "import functools"
   ]
  },
  {
   "cell_type": "code",
   "execution_count": 22,
   "metadata": {},
   "outputs": [
    {
     "name": "stdout",
     "output_type": "stream",
     "text": [
      "['RLock', 'WRAPPER_ASSIGNMENTS', 'WRAPPER_UPDATES', '_CacheInfo', '_HashedSeq', '__all__', '__builtins__', '__cached__', '__doc__', '__file__', '__loader__', '__name__', '__package__', '__spec__', '_c3_merge', '_c3_mro', '_compose_mro', '_convert', '_find_impl', '_ge_from_gt', '_ge_from_le', '_ge_from_lt', '_gt_from_ge', '_gt_from_le', '_gt_from_lt', '_le_from_ge', '_le_from_gt', '_le_from_lt', '_lru_cache_wrapper', '_lt_from_ge', '_lt_from_gt', '_lt_from_le', '_make_key', 'cmp_to_key', 'get_cache_token', 'lru_cache', 'namedtuple', 'partial', 'partialmethod', 'recursive_repr', 'reduce', 'singledispatch', 'total_ordering', 'update_wrapper', 'wraps'] "
     ]
    }
   ],
   "source": [
    "print(dir(functools),end=' ')"
   ]
  },
  {
   "cell_type": "code",
   "execution_count": 24,
   "metadata": {},
   "outputs": [
    {
     "name": "stdout",
     "output_type": "stream",
     "text": [
      "100\n"
     ]
    }
   ],
   "source": [
    "a=functools.reduce(lambda x,y:x+y,[10,20,30,40])\n",
    "print(a)"
   ]
  },
  {
   "cell_type": "code",
   "execution_count": null,
   "metadata": {},
   "outputs": [],
   "source": [
    "# x=10\n",
    "  y=20\n",
    "    \n",
    "x+y=30\n",
    "\n",
    "x=30\n",
    "y=30\n",
    "x+y=30+30=60\n",
    "\n",
    "x=60\n",
    "y=40\n",
    "x+y=60+40=100"
   ]
  },
  {
   "cell_type": "code",
   "execution_count": 25,
   "metadata": {},
   "outputs": [
    {
     "name": "stdout",
     "output_type": "stream",
     "text": [
      "[6, 8, 44, 118]\n"
     ]
    }
   ],
   "source": [
    "lst=[1,6,8,11,9,44,99,118]\n",
    "u=list(filter(lambda x:(x%2==0), lst))\n",
    "print(list(u))"
   ]
  },
  {
   "cell_type": "code",
   "execution_count": 28,
   "metadata": {},
   "outputs": [
    {
     "name": "stdout",
     "output_type": "stream",
     "text": [
      "['23', '34', '45']\n"
     ]
    }
   ],
   "source": [
    "k=['23','34','45','10']\n",
    "s=[]\n",
    "for i in k:\n",
    "    if str(i)>'20':\n",
    "        s.append(i)\n",
    "print(s)"
   ]
  },
  {
   "cell_type": "code",
   "execution_count": null,
   "metadata": {},
   "outputs": [],
   "source": []
  },
  {
   "cell_type": "code",
   "execution_count": null,
   "metadata": {},
   "outputs": [],
   "source": []
  }
 ],
 "metadata": {
  "kernelspec": {
   "display_name": "Python 3",
   "language": "python",
   "name": "python3"
  },
  "language_info": {
   "codemirror_mode": {
    "name": "ipython",
    "version": 3
   },
   "file_extension": ".py",
   "mimetype": "text/x-python",
   "name": "python",
   "nbconvert_exporter": "python",
   "pygments_lexer": "ipython3",
   "version": "3.7.3"
  }
 },
 "nbformat": 4,
 "nbformat_minor": 2
}
