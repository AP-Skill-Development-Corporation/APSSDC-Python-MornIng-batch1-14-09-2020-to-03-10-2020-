{
 "cells": [
  {
   "cell_type": "markdown",
   "metadata": {},
   "source": [
    "- Tasks\n",
    "    1. Char count with out spaces\n",
    "    2. words count\n",
    "    3. unique words\n",
    "    4. Frequency of words\n",
    "    - word : count\n",
    "    5. % of students passed \n",
    "        marks >= 35\n",
    "    6. % of students failed\n",
    "        - 100 - pass percentage\n",
    "    7. % of students with distinction\n",
    "        - marks >= 75\n",
    "    8. highest marks frequency\n",
    "    9. lowest marks frequency\n",
    "    10. Find and Replace"
   ]
  },
  {
   "cell_type": "code",
   "execution_count": 1,
   "metadata": {},
   "outputs": [
    {
     "name": "stdout",
     "output_type": "stream",
     "text": [
      "78\n"
     ]
    }
   ],
   "source": [
    "# char count without spaces\n",
    "def chrcount(filepath):\n",
    "    with open(filepath) as f:\n",
    "        c = 0\n",
    "        fh = f.read()\n",
    "        for i in fh:\n",
    "            if i != \"\\n\" and i != \" \":\n",
    "                c += 1\n",
    "        print(c)\n",
    "filepath = 'Datafiles/data.txt'\n",
    "chrcount(filepath)"
   ]
  },
  {
   "cell_type": "code",
   "execution_count": 2,
   "metadata": {},
   "outputs": [
    {
     "data": {
      "text/plain": [
       "15"
      ]
     },
     "execution_count": 2,
     "metadata": {},
     "output_type": "execute_result"
    }
   ],
   "source": [
    "# word count\n",
    "def wordcount(filepath):\n",
    "    with open(filepath) as f:\n",
    "        fh =  f.read()\n",
    "        data = fh.split()\n",
    "        wc = len(data)\n",
    "    return wc\n",
    "filepath = 'Datafiles/data.txt'\n",
    "wordcount(filepath)"
   ]
  },
  {
   "cell_type": "code",
   "execution_count": 6,
   "metadata": {},
   "outputs": [
    {
     "data": {
      "text/plain": [
       "['Python', 'Online', 'Program', 'On', '24th', 'Sep', '2020']"
      ]
     },
     "execution_count": 6,
     "metadata": {},
     "output_type": "execute_result"
    }
   ],
   "source": [
    "# Unique Words \n",
    "def uniquewords(filepath):\n",
    "    uniquewords = []\n",
    "    with open(filepath) as f:\n",
    "        fh = f.read()\n",
    "        data = fh.split()\n",
    "        for word in data:\n",
    "            if word not in uniquewords:\n",
    "                uniquewords.append(word)\n",
    "    return uniquewords\n",
    "filepath = 'Datafiles/info.txt'\n",
    "uniquewords(filepath)"
   ]
  },
  {
   "cell_type": "code",
   "execution_count": 7,
   "metadata": {},
   "outputs": [
    {
     "data": {
      "text/plain": [
       "{'Python': 1,\n",
       " 'Online': 1,\n",
       " 'Program': 1,\n",
       " 'On': 3,\n",
       " '24th': 3,\n",
       " 'Sep': 3,\n",
       " '2020': 3}"
      ]
     },
     "execution_count": 7,
     "metadata": {},
     "output_type": "execute_result"
    }
   ],
   "source": [
    "# Frequency of words \n",
    "def wrdsfrq(filepath):\n",
    "    with open(filepath) as f:\n",
    "        d = {}\n",
    "        fh = f.read()\n",
    "        data = fh.split()\n",
    "        for word in data:\n",
    "            a = data.count(word)\n",
    "            d[word] = a\n",
    "    return d\n",
    "filepath = 'Datafiles/info.txt'\n",
    "wrdsfrq(filepath)"
   ]
  },
  {
   "cell_type": "code",
   "execution_count": 5,
   "metadata": {},
   "outputs": [
    {
     "name": "stdout",
     "output_type": "stream",
     "text": [
      "% of students passed  70.0\n",
      "% of students failed  30.0\n",
      "% of students with distinction  22.0\n",
      "Highest mark frequency  2\n",
      "Lowest mark frequency 1\n"
     ]
    }
   ],
   "source": [
    "def reportgen(filepath):\n",
    "    with open(filepath) as f:\n",
    "        filedata = f.read()\n",
    "        lines = filedata.split()\n",
    "        passcount = 0\n",
    "        distcount = 0\n",
    "        highcount = 0\n",
    "        lowcount = 0\n",
    "        highestmarks = max(lines)\n",
    "        lowestmarks = min(lines)\n",
    "        for mark in lines:\n",
    "            if int(mark) > 35:\n",
    "                passcount += 1\n",
    "            if int(mark) >= 80:\n",
    "                distcount += 1\n",
    "            if int(mark) == int(highestmarks):\n",
    "                highcount += 1\n",
    "            if int(mark) == int(lowestmarks):\n",
    "                lowcount += 1\n",
    "        passpercentage = (passcount/len(lines))*100\n",
    "        failedpercentage = 100 - passpercentage\n",
    "        distinctionpercentage = (distcount/len(lines))*100\n",
    "        print(\"% of students passed \",passpercentage)\n",
    "        print(\"% of students failed \",failedpercentage)\n",
    "        print(\"% of students with distinction \",distinctionpercentage)\n",
    "        print(\"Highest mark frequency \",highcount)\n",
    "        print(\"Lowest mark frequency\",lowcount)\n",
    "filepath = 'Datafiles/marks.txt'\n",
    "reportgen(filepath)"
   ]
  },
  {
   "cell_type": "code",
   "execution_count": 2,
   "metadata": {},
   "outputs": [
    {
     "data": {
      "text/plain": [
       "True"
      ]
     },
     "execution_count": 2,
     "metadata": {},
     "output_type": "execute_result"
    }
   ],
   "source": [
    "def Iswordexist(filepath,word):\n",
    "    with open(filepath,'r') as f:\n",
    "        data = f.read()\n",
    "        words = data.split()\n",
    "        if word in words:\n",
    "            count = words.count(word)\n",
    "            return True\n",
    "        return False\n",
    "Iswordexist('Datafiles/test.txt','First')"
   ]
  },
  {
   "cell_type": "code",
   "execution_count": 4,
   "metadata": {},
   "outputs": [
    {
     "name": "stdout",
     "output_type": "stream",
     "text": [
      "First\n",
      "2nd\n",
      "Third\n",
      "Fourth\n",
      "Fifth\n"
     ]
    }
   ],
   "source": [
    "with open('Datafiles/test.txt') as f:\n",
    "    data = f.read()\n",
    "    if Iswordexist('Datafiles/test.txt','Second'):\n",
    "        print(data.replace('Second','2nd'))\n",
    "    else:\n",
    "        print('Word doesnot exist')"
   ]
  },
  {
   "cell_type": "code",
   "execution_count": null,
   "metadata": {},
   "outputs": [],
   "source": []
  }
 ],
 "metadata": {
  "kernelspec": {
   "display_name": "Python 3",
   "language": "python",
   "name": "python3"
  },
  "language_info": {
   "codemirror_mode": {
    "name": "ipython",
    "version": 3
   },
   "file_extension": ".py",
   "mimetype": "text/x-python",
   "name": "python",
   "nbconvert_exporter": "python",
   "pygments_lexer": "ipython3",
   "version": "3.7.1"
  }
 },
 "nbformat": 4,
 "nbformat_minor": 2
}
